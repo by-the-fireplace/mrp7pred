{
 "cells": [
  {
   "cell_type": "markdown",
   "metadata": {},
   "source": [
    "# Train new models using new dataset (1500 compounds)"
   ]
  },
  {
   "cell_type": "code",
   "execution_count": 33,
   "metadata": {},
   "outputs": [
    {
     "name": "stdout",
     "output_type": "stream",
     "text": [
      "The autoreload extension is already loaded. To reload it, use:\n",
      "  %reload_ext autoreload\n"
     ]
    }
   ],
   "source": [
    "# Autoreload modules\n",
    "%load_ext autoreload\n",
    "%autoreload 2\n",
    "\n",
    "# Add local path\n",
    "import sys\n",
    "sys.path.append(\"/Users/Jphild/Documents/Papers/_***Thesis/MRP7Pred/\")\n",
    "\n",
    "# Disable warnings\n",
    "import warnings\n",
    "warnings.filterwarnings(\"ignore\")\n",
    "\n",
    "import pandas as pd\n",
    "import numpy as np\n",
    "\n",
    "from pandas import DataFrame\n",
    "from numpy import ndarray\n",
    "from typing import Union, Any, Dict, Tuple, List\n",
    "\n",
    "# Local modules\n",
    "from src.utils import (\n",
    "    DATA, \n",
    "    OUTPUT,\n",
    "    ensure_folder,\n",
    "    get_current_time,\n",
    "    plot_roc_auc\n",
    ")\n",
    "from src.mrp7pred import MRP7Pred\n",
    "from src.grid import grid\n",
    "from src.scoring import get_scoring"
   ]
  },
  {
   "cell_type": "markdown",
   "metadata": {},
   "source": [
    "#### 1. Load data and get basic statistics"
   ]
  },
  {
   "cell_type": "code",
   "execution_count": 34,
   "metadata": {},
   "outputs": [
    {
     "data": {
      "text/html": [
       "<div>\n",
       "<style scoped>\n",
       "    .dataframe tbody tr th:only-of-type {\n",
       "        vertical-align: middle;\n",
       "    }\n",
       "\n",
       "    .dataframe tbody tr th {\n",
       "        vertical-align: top;\n",
       "    }\n",
       "\n",
       "    .dataframe thead th {\n",
       "        text-align: right;\n",
       "    }\n",
       "</style>\n",
       "<table border=\"1\" class=\"dataframe\">\n",
       "  <thead>\n",
       "    <tr style=\"text-align: right;\">\n",
       "      <th></th>\n",
       "      <th>name</th>\n",
       "      <th>label</th>\n",
       "      <th>std_smiles</th>\n",
       "    </tr>\n",
       "  </thead>\n",
       "  <tbody>\n",
       "    <tr>\n",
       "      <th>0</th>\n",
       "      <td>paclitaxel</td>\n",
       "      <td>1</td>\n",
       "      <td>CC(=O)OC1C(=O)C2(C)C(O)CC3OCC3(OC(C)=O)C2C(OC(...</td>\n",
       "    </tr>\n",
       "    <tr>\n",
       "      <th>1</th>\n",
       "      <td>vincristine</td>\n",
       "      <td>1</td>\n",
       "      <td>CCC1(O)CC2CN(CCc3c([nH]c4ccccc34)C(C(=O)OC)(c3...</td>\n",
       "    </tr>\n",
       "    <tr>\n",
       "      <th>2</th>\n",
       "      <td>LTC4</td>\n",
       "      <td>1</td>\n",
       "      <td>CCCCCC=CCC=CC=CC=CC(SCC(NC(=O)CCC(N)C(=O)O)C(=...</td>\n",
       "    </tr>\n",
       "    <tr>\n",
       "      <th>3</th>\n",
       "      <td>E217bG</td>\n",
       "      <td>1</td>\n",
       "      <td>CC12CCC3c4ccc(O)cc4CCC3C1CCC2OC1OC(C(=O)O)C(O)...</td>\n",
       "    </tr>\n",
       "    <tr>\n",
       "      <th>4</th>\n",
       "      <td>gemcitabine</td>\n",
       "      <td>1</td>\n",
       "      <td>Nc1ccn(C2OC(CO)C(O)C2(F)F)c(=O)n1</td>\n",
       "    </tr>\n",
       "  </tbody>\n",
       "</table>\n",
       "</div>"
      ],
      "text/plain": [
       "          name  label                                         std_smiles\n",
       "0   paclitaxel      1  CC(=O)OC1C(=O)C2(C)C(O)CC3OCC3(OC(C)=O)C2C(OC(...\n",
       "1  vincristine      1  CCC1(O)CC2CN(CCc3c([nH]c4ccccc34)C(C(=O)OC)(c3...\n",
       "2         LTC4      1  CCCCCC=CCC=CC=CC=CC(SCC(NC(=O)CCC(N)C(=O)O)C(=...\n",
       "3       E217bG      1  CC12CCC3c4ccc(O)cc4CCC3C1CCC2OC1OC(C(=O)O)C(O)...\n",
       "4  gemcitabine      1                  Nc1ccn(C2OC(CO)C(O)C2(F)F)c(=O)n1"
      ]
     },
     "execution_count": 34,
     "metadata": {},
     "output_type": "execute_result"
    }
   ],
   "source": [
    "df = pd.read_csv(f\"../data/all_compounds_with_std_smiles.csv\", index_col=0)\n",
    "df.head()"
   ]
  },
  {
   "cell_type": "code",
   "execution_count": 35,
   "metadata": {},
   "outputs": [
    {
     "data": {
      "text/plain": [
       "RangeIndex(start=0, stop=1500, step=1)"
      ]
     },
     "execution_count": 35,
     "metadata": {},
     "output_type": "execute_result"
    }
   ],
   "source": [
    "df.reset_index().index"
   ]
  },
  {
   "cell_type": "code",
   "execution_count": 36,
   "metadata": {},
   "outputs": [],
   "source": [
    "df = df.rename(columns={\"std_smiles\" : \"smiles\"})"
   ]
  },
  {
   "cell_type": "code",
   "execution_count": 37,
   "metadata": {},
   "outputs": [
    {
     "name": "stdout",
     "output_type": "stream",
     "text": [
      "Featurzing data ... "
     ]
    },
    {
     "name": "stderr",
     "output_type": "stream",
     "text": [
      " 11%|█         | 163/1500 [00:05<00:40, 33.30it/s]"
     ]
    },
    {
     "name": "stdout",
     "output_type": "stream",
     "text": [
      "Error found when processing compound 3,3'-diallyl-5,5'-bis((bis(2-chloroethyl)amino)methyl)[1,1'-biphenyl]-4,4'-diol (ACD/Name)\n",
      "Smiles: CC1=CC2=[N+]3C1=Cc1cc(C)c4n1[Pd]31n3c(c(C)c(CCC(=O)O)c3=CC3=[N+]1C(=C4)C(C)=C3CCC(=O)O)=C2\n",
      "ERROR: No Gasteiger Partial Charge parameters for Element: Pd Mode: \n"
     ]
    },
    {
     "name": "stderr",
     "output_type": "stream",
     "text": [
      " 12%|█▏        | 180/1500 [00:06<00:38, 34.05it/s]"
     ]
    },
    {
     "name": "stdout",
     "output_type": "stream",
     "text": [
      "Error found when processing compound MP 317\n",
      "Smiles: O=C(O[Hg]C[C@@H]1CO[C@@H](C[Hg]OC(=O)c2ccccc2)CO1)c1ccccc1\n",
      "ERROR: No Gasteiger Partial Charge parameters for Element: Hg Mode: sp\n"
     ]
    },
    {
     "name": "stderr",
     "output_type": "stream",
     "text": [
      " 13%|█▎        | 197/1500 [00:06<00:39, 33.34it/s]"
     ]
    },
    {
     "name": "stdout",
     "output_type": "stream",
     "text": [
      "Error found when processing compound Caddy\n",
      "Smiles: Cl[Cd]Cl\n",
      "ERROR: No Gasteiger Partial Charge parameters for Element: Cd Mode: sp\n"
     ]
    },
    {
     "name": "stderr",
     "output_type": "stream",
     "text": [
      " 15%|█▍        | 218/1500 [00:07<00:38, 33.14it/s]"
     ]
    },
    {
     "name": "stdout",
     "output_type": "stream",
     "text": [
      "Error found when processing compound Purine-6-thiol, chloropalladate(II) deriv., disodium salt, trihydrate\n",
      "Smiles: Cl[Pd]12([S+]=c3nc[nH]c4[nH]cnc34)([S+]=C3N=CNc4[nH]c[n+]1c43)[S+]=C1N=CNc3[nH]c[n+]2c31\n",
      "ERROR: No Gasteiger Partial Charge parameters for Element: Pd Mode: \n"
     ]
    },
    {
     "name": "stderr",
     "output_type": "stream",
     "text": [
      " 19%|█▉        | 283/1500 [00:09<00:38, 32.02it/s]"
     ]
    },
    {
     "name": "stdout",
     "output_type": "stream",
     "text": [
      "Error found when processing compound DDP\n",
      "Smiles: N[Pt](N)(Cl)Cl\n",
      "ERROR: No Gasteiger Partial Charge parameters for Element: Pt Mode: \n"
     ]
    },
    {
     "name": "stderr",
     "output_type": "stream",
     "text": [
      " 26%|██▌       | 389/1500 [00:13<00:42, 26.41it/s]"
     ]
    },
    {
     "name": "stdout",
     "output_type": "stream",
     "text": [
      "Error found when processing compound N-(4-(((2,4-diamino-6-pteridinyl)methyl)(methyl)amino)-1-naphthoyl)glutamic acid (ACD/Name)\n",
      "Smiles: CCOC(=O)N1C=CC2=C3C4=C1[Fe]234(C#[O+])(C#[O+])C#[O+]\n",
      "ERROR: No Gasteiger Partial Charge parameters for Element: Fe Mode: \n"
     ]
    },
    {
     "name": "stderr",
     "output_type": "stream",
     "text": [
      " 27%|██▋       | 404/1500 [00:14<00:35, 30.92it/s]"
     ]
    },
    {
     "name": "stdout",
     "output_type": "stream",
     "text": [
      "Error found when processing compound SG\n",
      "Smiles: CC[Ge]1(CC)CCC2(CCN(CCCN(C)C)C2)CC1\n",
      "ERROR: No Gasteiger Partial Charge parameters for Element: Ge Mode: sp3\n"
     ]
    },
    {
     "name": "stderr",
     "output_type": "stream",
     "text": [
      " 28%|██▊       | 425/1500 [00:15<00:36, 29.55it/s]"
     ]
    },
    {
     "name": "stdout",
     "output_type": "stream",
     "text": [
      "Error found when processing compound PALA\n",
      "Smiles: O=C(O)C[C@@H](NC(=O)CP(=O)(O)O)C(=O)O.[NaH]\n",
      "ERROR: No Gasteiger Partial Charge parameters for Element: Na Mode: \n"
     ]
    },
    {
     "name": "stderr",
     "output_type": "stream",
     "text": [
      " 29%|██▉       | 433/1500 [00:15<00:41, 26.00it/s]"
     ]
    },
    {
     "name": "stdout",
     "output_type": "stream",
     "text": [
      "Error found when processing compound CBDCA\n",
      "Smiles: N[Pt]1(N)OC(=O)C2(CCC2)C(=O)O1\n",
      "ERROR: No Gasteiger Partial Charge parameters for Element: Pt Mode: \n"
     ]
    },
    {
     "name": "stderr",
     "output_type": "stream",
     "text": [
      " 30%|██▉       | 448/1500 [00:16<00:36, 29.10it/s]"
     ]
    },
    {
     "name": "stdout",
     "output_type": "stream",
     "text": [
      "Error found when processing compound CHIP\n",
      "Smiles: CC(C)N[Pt](O)(O)(Cl)(Cl)NC(C)C\n",
      "ERROR: No Gasteiger Partial Charge parameters for Element: Pt Mode: \n"
     ]
    },
    {
     "name": "stderr",
     "output_type": "stream",
     "text": [
      " 32%|███▏      | 477/1500 [00:17<00:36, 28.24it/s]"
     ]
    },
    {
     "name": "stdout",
     "output_type": "stream",
     "text": [
      "Error found when processing compound Platinate(1-), (1,2,4-benzenetricarboxylato(3-)-O1,O2)(1, 2-cyclohexanediamine-N,N')-, hydrogen, (SP-4-3)-\n",
      "Smiles: O=C(O)c1ccc2c(c1)C(=O)O[Pt]1(N[C@H]3CCCC[C@@H]3N1)OC2=O\n",
      "ERROR: No Gasteiger Partial Charge parameters for Element: Pt Mode: \n"
     ]
    },
    {
     "name": "stderr",
     "output_type": "stream",
     "text": [
      " 41%|████      | 617/1500 [00:21<00:28, 31.10it/s]"
     ]
    },
    {
     "name": "stdout",
     "output_type": "stream",
     "text": [
      "Error found when processing compound Tetraplatin\n",
      "Smiles: Cl[Pt]1(Cl)(Cl)(Cl)N[C@@H]2CCCC[C@H]2N1\n",
      "ERROR: No Gasteiger Partial Charge parameters for Element: Pt Mode: \n"
     ]
    },
    {
     "name": "stderr",
     "output_type": "stream",
     "text": [
      " 46%|████▋     | 696/1500 [00:24<00:26, 30.26it/s]"
     ]
    },
    {
     "name": "stdout",
     "output_type": "stream",
     "text": [
      "Error found when processing compound Camptothecin hemisuccinate sodium salt\n",
      "Smiles: CC[C@]1(OC(=O)CCC(=O)O)C(=O)OCc2c1cc1n(c2=O)Cc2cc3ccccc3nc2-1.[NaH]\n",
      "ERROR: No Gasteiger Partial Charge parameters for Element: Na Mode: \n"
     ]
    },
    {
     "name": "stderr",
     "output_type": "stream",
     "text": [
      " 47%|████▋     | 707/1500 [00:24<00:33, 23.85it/s]"
     ]
    },
    {
     "name": "stdout",
     "output_type": "stream",
     "text": [
      "Error found when processing compound Benzoic acid, 2-hydroxy-, (2,6-pyridinediyldiethylidyne) dihydrazide, nickel complex\n",
      "Smiles: CC1=[N+]2[N-]C(c3ccccc3O)=[O+][Ni+]234(Cl)[O+]=C(c2ccccc2O)[N-][N+]3=C(C)c2cccc1[n+]24.[Cl-]\n",
      "ERROR: No Gasteiger Partial Charge parameters for Element: Ni Mode: \n"
     ]
    },
    {
     "name": "stderr",
     "output_type": "stream",
     "text": [
      " 49%|████▉     | 735/1500 [00:25<00:24, 30.98it/s]"
     ]
    },
    {
     "name": "stdout",
     "output_type": "stream",
     "text": [
      "Error found when processing compound bis((mercapto(4-morpholinyl)methylene)-lambda~4~-sulfanyl)copper (ACD/Name)\n",
      "Smiles: C1CN(C2=[S+][Cu+2]3([S+]=C(N4CCOCC4)[SH+]3)[SH+]2)CCO1\n",
      "ERROR: No Gasteiger Partial Charge parameters for Element: Cu Mode: \n",
      "Error found when processing compound bis((mercapto(4-methyl-1-piperazinyl)methylene)-lambda~4~-sulfanyl)copper (ACD/Name)\n",
      "Smiles: CN1CCN(C2=[S+][Cu+2]3([S+]=C(N4CCN(C)CC4)[SH+]3)[SH+]2)CC1\n",
      "ERROR: No Gasteiger Partial Charge parameters for Element: Cu Mode: \n"
     ]
    },
    {
     "name": "stderr",
     "output_type": "stream",
     "text": [
      " 51%|█████     | 763/1500 [00:26<00:25, 29.35it/s]"
     ]
    },
    {
     "name": "stdout",
     "output_type": "stream",
     "text": [
      "Error found when processing compound Mercury, {chloro[[4-(1,1-dimethylethyl)-1-} nitrocyclohexyl\\]methyl\\]-\n",
      "Smiles: CC(C)(C)[C@H]1CC[C@]([CH-][Hg+]Cl)([N+](=O)[O-])CC1\n",
      "ERROR: No Gasteiger Partial Charge parameters for Element: Hg Mode: sp3\n"
     ]
    },
    {
     "name": "stderr",
     "output_type": "stream",
     "text": [
      " 52%|█████▏    | 786/1500 [00:27<00:19, 36.08it/s]"
     ]
    },
    {
     "name": "stdout",
     "output_type": "stream",
     "text": [
      "Error found when processing compound Bismuth, dichloro(1-piperidinylcarbamodithioato-S,S')-, (T-4)-\n",
      "Smiles: Cl[Bi+]1(Cl)[S+]=C(N2CCCCC2)[SH+]1\n",
      "ERROR: No Gasteiger Partial Charge parameters for Element: Bi Mode: sp3\n",
      "Error found when processing compound 1-Piperidinecarbodithioic acid, antimony complex\n",
      "Smiles: Br[Sb+]1(Br)[S+]=C(N2CCCCC2)[SH+]1\n",
      "ERROR: No Gasteiger Partial Charge parameters for Element: Sb Mode: sp3\n",
      "Error found when processing compound 4-Thiomorpholinecarbodithioic acid, antimony complex\n",
      "Smiles: Br[Sb+]1(Br)[S+]=C(N2CCSCC2)[SH+]1\n",
      "ERROR: No Gasteiger Partial Charge parameters for Element: Sb Mode: sp3\n",
      "Error found when processing compound Thiomorpholinecarbodithioic acid, (iododiiodo)antimonycomplex\n",
      "Smiles: I[Sb+2]12([S+]=C(N3CCSCC3)[SH+]1)[S+]=C(N1CCSCC1)[SH+][SbH+]1(I)([S+]=C(N3CCSCC3)[SH+]1)[I]2\n",
      "ERROR: No Gasteiger Partial Charge parameters for Element: Sb Mode: sp3\n",
      "Error found when processing compound 1-Piperidinecarbodithioic acid, antimony complex\n",
      "Smiles: Cl[Sb+2]12([S+]=C(N3CCCCC3)[SH+]1)[S+]=C(N1CCCCC1)[SH+]2\n",
      "ERROR: No Gasteiger Partial Charge parameters for Element: Sb Mode: sp3\n",
      "Error found when processing compound 4-Morpholinecarbodithioic acid, antimony complex\n",
      "Smiles: Cl[Sb+2]12([S+]=C(N3CCOCC3)[SH+]1)[S+]=C(N1CCOCC1)[SH+]2\n",
      "ERROR: No Gasteiger Partial Charge parameters for Element: Sb Mode: sp3\n",
      "Error found when processing compound 4-Morpholinecarbodithioic acid, antimony complex\n",
      "Smiles: CC(=O)[OH+][Ni@+]12[N+](=C(c3ccccc3)c3cccc[n+]31)[N-]c1cccc[n+]12\n",
      "ERROR: No Gasteiger Partial Charge parameters for Element: Ni Mode: \n"
     ]
    },
    {
     "name": "stderr",
     "output_type": "stream",
     "text": [
      " 54%|█████▎    | 805/1500 [00:27<00:20, 34.13it/s]"
     ]
    },
    {
     "name": "stdout",
     "output_type": "stream",
     "text": [
      "Error found when processing compound 2,1,3-Benzoselanadiazole, nitro-6-(trifluoromethyl)-\n",
      "Smiles: O=[N+]([O-])c1cc(C(F)(F)F)cc2n[se]nc12\n",
      "ERROR: No Gasteiger Partial Charge parameters for Element: Se Mode: sp2\n"
     ]
    },
    {
     "name": "stderr",
     "output_type": "stream",
     "text": [
      " 55%|█████▍    | 820/1500 [00:28<00:21, 31.65it/s]"
     ]
    },
    {
     "name": "stdout",
     "output_type": "stream",
     "text": [
      "Error found when processing compound 4H-1,3,2-Benzodioxastannin-4-one, 7-amino-2,2-dibutyl-\n",
      "Smiles: CCCC[Sn]1(CCCC)OC(=O)c2ccc(N)cc2O1\n",
      "ERROR: No Gasteiger Partial Charge parameters for Element: Sn Mode: sp3\n",
      "Error found when processing compound 4H-1,3,2-Benzodioxastannin-4-one, 7-amino-2,2-diphenyl-\n",
      "Smiles: Nc1ccc2c(c1)O[Sn](c1ccccc1)(c1ccccc1)OC2=O\n",
      "ERROR: No Gasteiger Partial Charge parameters for Element: Sn Mode: sp3\n",
      "Error found when processing compound ethylene compound with 8-(((8-quinolinyloxy)-lambda~2~-stannanyl)oxy)quinoline (2:1) (ACD/Name)\n",
      "Smiles: C=C[Sn](C=C)(Oc1cccc2cccnc12)Oc1cccc2cccnc12\n",
      "ERROR: No Gasteiger Partial Charge parameters for Element: Sn Mode: sp3\n"
     ]
    },
    {
     "name": "stderr",
     "output_type": "stream",
     "text": [
      " 56%|█████▌    | 833/1500 [00:28<00:19, 33.43it/s]"
     ]
    },
    {
     "name": "stdout",
     "output_type": "stream",
     "text": [
      "Error found when processing compound Trichlorotris-3-(t-butyl)pyrazoleruthenium(III)\n",
      "Smiles: CC(C)(C)c1cc[n+]([Ru](Cl)(Cl)(Cl)([n+]2ccc(C(C)(C)C)[n-]2)[n+]2ccc(C(C)(C)C)[n-]2)[n-]1\n",
      "ERROR: No Gasteiger Partial Charge parameters for Element: Ru Mode: \n"
     ]
    },
    {
     "name": "stderr",
     "output_type": "stream",
     "text": [
      " 56%|█████▌    | 838/1500 [00:28<00:20, 32.21it/s]"
     ]
    },
    {
     "name": "stdout",
     "output_type": "stream",
     "text": [
      "Error found when processing compound cis-Dichlorobis(4-methoxyphenethylamine)platinum(II)\n",
      "Smiles: COc1ccc(CCN[Pt](Cl)(Cl)NCCc2ccc(OC)cc2)cc1\n",
      "ERROR: No Gasteiger Partial Charge parameters for Element: Pt Mode: \n",
      "Error found when processing compound cis-Amminedichloro(4-methoxyphenethylamine)platinum(II)\n",
      "Smiles: COc1ccc(CCN[Pt](N)(Cl)Cl)cc1\n",
      "ERROR: No Gasteiger Partial Charge parameters for Element: Pt Mode: \n"
     ]
    },
    {
     "name": "stderr",
     "output_type": "stream",
     "text": [
      " 57%|█████▋    | 853/1500 [00:29<00:19, 33.74it/s]"
     ]
    },
    {
     "name": "stdout",
     "output_type": "stream",
     "text": [
      "Error found when processing compound Platinum, {dichloro(quinoline-N)[sulfinylbis(methane)-S]-,} (SP-4-1)\n",
      "Smiles: C[S](C)(=O)[Pt](Cl)(Cl)[n+]1cccc2ccccc21\n",
      "ERROR: No Gasteiger Partial Charge parameters for Element: Pt Mode: \n",
      "Error found when processing compound Platinum, {dichloro[(methylsulfinyl)phenyl-S](quinoline-N)-,} (SP-4-1)\n",
      "Smiles: C[S@@](=O)(c1ccccc1)[Pt](Cl)(Cl)[n+]1cccc2ccccc21\n",
      "ERROR: No Gasteiger Partial Charge parameters for Element: Pt Mode: \n",
      "Error found when processing compound Tetrakisoxinatosilicon(IV)tetrahydrochloride\n",
      "Smiles: [Cl-].c1cnc2c([OH+][Si]34([OH+]c5cccc6cccnc56)([OH+]c5cccc6ccc[n+]3c56)[OH+]c3cccc5ccc[n+]4c35)cccc2c1\n",
      "ERROR: No Gasteiger Partial Charge parameters for Element: Si Mode: \n"
     ]
    },
    {
     "name": "stderr",
     "output_type": "stream",
     "text": [
      " 57%|█████▋    | 861/1500 [00:29<00:19, 32.37it/s]"
     ]
    },
    {
     "name": "stdout",
     "output_type": "stream",
     "text": [
      "Error found when processing compound Chlorobis(4-isopropyltropolonato)bismuth(III)\n",
      "Smiles: CC(C)C1=CC=CC2=[O+][Bi+2]3(Cl)([O+]=C4C=CC=C(C(C)C)C=C4[OH+]3)[OH+]C2=C1\n",
      "ERROR: No Gasteiger Partial Charge parameters for Element: Bi Mode: sp3\n"
     ]
    },
    {
     "name": "stderr",
     "output_type": "stream",
     "text": [
      " 58%|█████▊    | 875/1500 [00:30<00:21, 28.85it/s]"
     ]
    },
    {
     "name": "stdout",
     "output_type": "stream",
     "text": [
      "Error found when processing compound Copper, {bromo[2-[1-(2-pyridinyl)ethylidene][N,} N-dimethyl-hydrazinecarbothioamidato-N,N,S\\]-\n",
      "Smiles: CC1=[N+]2[N-]C(N(C)C)=[S+][Cu+]2(Br)[n+]2ccccc21\n",
      "ERROR: No Gasteiger Partial Charge parameters for Element: Cu Mode: \n",
      "Error found when processing compound Diethoxybis(2-acetyl-1-hydrindonato)titanium(IV)\n",
      "Smiles: CC[OH+][Ti]12([OH+]CC)([O+]=C3C(=C(C)[OH+]1)Cc1ccccc13)[O+]=C1C(=C(C)[OH+]2)Cc2ccccc21\n",
      "ERROR: No Gasteiger Partial Charge parameters for Element: Ti Mode: \n"
     ]
    },
    {
     "name": "stderr",
     "output_type": "stream",
     "text": [
      " 60%|█████▉    | 896/1500 [00:30<00:19, 30.62it/s]"
     ]
    },
    {
     "name": "stdout",
     "output_type": "stream",
     "text": [
      "Error found when processing compound 2-N-Methyl-6-thiaellipticinum iodide\n",
      "Smiles: COc1cccc2c1[OH+][Cu@@+2]1([O-])[S+]=C(N)[N-][N+]1=C2\n",
      "ERROR: No Gasteiger Partial Charge parameters for Element: Cu Mode: \n",
      "Error found when processing compound Hydrazinecarbothioamide, {2-[(2-hydroxy-3-methoxyphenyl)-methylene]-,} 1,10-phenanthroline aqua copper complex\n",
      "Smiles: COc1cccc2c1[OH+][Cu+2]13([O-])([S+]=C(N)[N-][N+]1=C2)[n+]1cccc2ccc4ccc[n+]3c4c21\n",
      "ERROR: No Gasteiger Partial Charge parameters for Element: Cu Mode: \n"
     ]
    },
    {
     "name": "stderr",
     "output_type": "stream",
     "text": [
      " 61%|██████    | 909/1500 [00:31<00:17, 33.01it/s]"
     ]
    },
    {
     "name": "stdout",
     "output_type": "stream",
     "text": [
      "Error found when processing compound Chlorotris(chinoline-8-olato)titanium(IV)-trihydrochloride\n",
      "Smiles: [Cl-].[ClH+][Ti]12([OH+]c3cccc4cccnc34)([OH+]c3cccc4ccc[n+]1c34)[OH+]c1cccc3ccc[n+]2c13\n",
      "ERROR: No Gasteiger Partial Charge parameters for Element: Ti Mode: \n",
      "Error found when processing compound Tetrakis(8-chinolineolato)titanium(IV)-tetrahydrochloride\n",
      "Smiles: [Cl-].c1cnc2c([OH+][Ti]([OH+]c3cccc4cccnc34)([OH+]c3cccc4cccnc34)[OH+]c3cccc4cccnc34)cccc2c1\n",
      "ERROR: No Gasteiger Partial Charge parameters for Element: Ti Mode: sp3\n"
     ]
    },
    {
     "name": "stderr",
     "output_type": "stream",
     "text": [
      " 64%|██████▎   | 954/1500 [00:32<00:17, 31.72it/s]"
     ]
    },
    {
     "name": "stdout",
     "output_type": "stream",
     "text": [
      "Error found when processing compound 5-(4-hydroxy-3,5-dimethoxyphenyl)-5,6,11,11a-tetrahydro-1H-[1,3]oxazolo[4',3':6,1]pyrido[3,4-b]indol-3-one (ACD/Name)\n",
      "Smiles: C[S@@](=O)(Cc1ccccc1)[Pt](Cl)(Cl)[n+]1cccc2ccccc21\n",
      "ERROR: No Gasteiger Partial Charge parameters for Element: Pt Mode: \n"
     ]
    },
    {
     "name": "stderr",
     "output_type": "stream",
     "text": [
      " 64%|██████▍   | 964/1500 [00:33<00:15, 33.95it/s]"
     ]
    },
    {
     "name": "stdout",
     "output_type": "stream",
     "text": [
      "Error found when processing compound (4-(((2-(4-(carboxymethoxy)-2,3-dichlorophenyl)-1-(5-(2-methylphenyl)-3H-1,2-dithiol-3-ylidene)-2-oxoethyl)dithio)(5-(2-methylphenyl)-3H-1,2-dithiol-3-ylidene)acetyl)-2,3-dichlorophenoxy)acetic acid (ACD/Name)\n",
      "Smiles: CCCN(CCC)C1=[S+][Cu+]2(Cl)[N+](=Cc3cccc[n+]32)[N-]1\n",
      "ERROR: No Gasteiger Partial Charge parameters for Element: Cu Mode: \n",
      "Error found when processing compound (4-(((2-(4-(carboxymethoxy)-2,3-dichlorophenyl)-1-(5-(2-methylphenyl)-3H-1,2-dithiol-3-ylidene)-2-oxoethyl)dithio)(5-(2-methylphenyl)-3H-1,2-dithiol-3-ylidene)acetyl)-2,3-dichlorophenoxy)acetic acid (ACD/Name)\n",
      "Smiles: CC1=[N+]2[N-]C(N3CCCCCC3)=[S+][Cu+]2(Cl)[n+]2ccncc21\n",
      "ERROR: No Gasteiger Partial Charge parameters for Element: Cu Mode: \n"
     ]
    },
    {
     "name": "stderr",
     "output_type": "stream",
     "text": [
      " 67%|██████▋   | 1000/1500 [00:33<00:12, 39.58it/s]"
     ]
    },
    {
     "name": "stdout",
     "output_type": "stream",
     "text": [
      "Error found when processing compound 1,2-Benzo-8-(D,L-alanyl)-3-phenoxazone\n",
      "Smiles: COc1ccc(/C=C/c2cc(OC)c(OC)c(OC)c2)cc1OCC(=O)O.[NaH]\n",
      "ERROR: No Gasteiger Partial Charge parameters for Element: Na Mode: \n",
      "Error found when processing compound 1,1,3,3-tetrabutyl-1,3-bis((2,3,4-trimethoxybenzoyl)oxy)distannoxane (ACD/Name)\n",
      "Smiles: CCCC[Sn](CCCC)(OC(=O)c1ccc(OC)c(OC)c1OC)O[Sn](CCCC)(CCCC)OC(=O)c1ccc(OC)c(OC)c1OC\n",
      "ERROR: No Gasteiger Partial Charge parameters for Element: Sn Mode: sp3\n",
      "Error found when processing compound 1,1,3,3-tetrabutyl-1,3-bis((2,3-difluorobenzoyl)oxy)distannoxane (ACD/Name)\n",
      "Smiles: CCCC[Sn](CCCC)(OC(=O)c1cccc(F)c1F)O[Sn](CCCC)(CCCC)OC(=O)c1cccc(F)c1F\n",
      "ERROR: No Gasteiger Partial Charge parameters for Element: Sn Mode: sp3\n",
      "Error found when processing compound 1,1,3,3-tetrabutyl-1,3-bis((2,5-difluorobenzoyl)oxy)distannoxane (ACD/Name)\n",
      "Smiles: CCCC[Sn](CCCC)(OC(=O)c1cc(F)ccc1F)O[Sn](CCCC)(CCCC)OC(=O)c1cc(F)ccc1F\n",
      "ERROR: No Gasteiger Partial Charge parameters for Element: Sn Mode: sp3\n",
      "Error found when processing compound 1,3-bis(((4-fluorophenyl)acetyl)oxy)-1,1,3,3-tetrapropyldistannoxane (ACD/Name)\n",
      "Smiles: CCC[Sn](CCC)(OC(=O)Cc1ccc(F)cc1)O[Sn](CCC)(CCC)OC(=O)Cc1ccc(F)cc1\n",
      "ERROR: No Gasteiger Partial Charge parameters for Element: Sn Mode: sp3\n",
      "Error found when processing compound 2-(methylthio)-3-(((3-(((2-(methylthio)-3-pyridinyl)carbonyl)oxy)-1,1,3,3-tetrapropyldistannoxanyl)oxy)carbonyl)pyridine (ACD/Name)\n",
      "Smiles: CCC[Sn](CCC)(OC(=O)c1cccnc1SC)O[Sn](CCC)(CCC)OC(=O)c1cccnc1SC\n",
      "ERROR: No Gasteiger Partial Charge parameters for Element: Sn Mode: sp3\n"
     ]
    },
    {
     "name": "stderr",
     "output_type": "stream",
     "text": [
      " 67%|██████▋   | 1010/1500 [00:34<00:14, 34.84it/s]"
     ]
    },
    {
     "name": "stdout",
     "output_type": "stream",
     "text": [
      "Error found when processing compound Bisacetylacetone ethylenediimine tin\n",
      "Smiles: CC1=[O+][Sn+2]23(N=CC=N2)([O+]=C(C)[CH-]1)[O+]=C(C)[CH-]C(C)=[O+]3\n",
      "ERROR: No Gasteiger Partial Charge parameters for Element: Sn Mode: sp3\n"
     ]
    },
    {
     "name": "stderr",
     "output_type": "stream",
     "text": [
      " 69%|██████▊   | 1031/1500 [00:34<00:12, 37.29it/s]"
     ]
    },
    {
     "name": "stdout",
     "output_type": "stream",
     "text": [
      "Error found when processing compound {[Bis(aminomethyl)diethylsilane]dichloroplatinum} (II)\n",
      "Smiles: CC[Si]1(CC)CN[Pt](Cl)(Cl)NC1\n",
      "ERROR: No Gasteiger Partial Charge parameters for Element: Pt Mode: \n",
      "Error found when processing compound {[Bis(aminomethyl)cyclobutamethylenesilane]dichloroplatinum} (II)\n",
      "Smiles: Cl[Pt]1(Cl)NC[Si]2(CCCC2)CN1\n",
      "ERROR: No Gasteiger Partial Charge parameters for Element: Pt Mode: \n",
      "Error found when processing compound {[Bis(aminomethyl)cyclopentamethylenesilane]dichloroplatinum} (II)\n",
      "Smiles: Cl[Pt]1(Cl)NC[Si]2(CCCCC2)CN1\n",
      "ERROR: No Gasteiger Partial Charge parameters for Element: Pt Mode: \n",
      "Error found when processing compound 2-oxo-1-phenyl-2-(lambda~2~-stannanyloxy)ethanol compound with methane (1:3) (ACD/Name)\n",
      "Smiles: C[Sn](C)(C)OC(=O)[C@H](O)c1ccccc1\n",
      "ERROR: No Gasteiger Partial Charge parameters for Element: Sn Mode: sp3\n",
      "Error found when processing compound 2-methoxy-5-(2-(3,4,5-trimethoxyphenyl)vinyl)phenyl dihydrogen phosphate ammoniate (ACD/Name)\n",
      "Smiles: COc1ccc(/C=C/c2cc(OC)c(OC)c(OC)c2)cc1OP(=O)(O)O.[NaH]\n",
      "ERROR: No Gasteiger Partial Charge parameters for Element: Na Mode: \n"
     ]
    },
    {
     "name": "stderr",
     "output_type": "stream",
     "text": [
      " 71%|███████   | 1065/1500 [00:35<00:11, 36.45it/s]"
     ]
    },
    {
     "name": "stdout",
     "output_type": "stream",
     "text": [
      "Error found when processing compound (2-((1-(diethoxymethyl)propyl)seleno)phenyl)(hydroxy)azane oxide (ACD/Name)\n",
      "Smiles: CCOC(OCC)[C@@H](CC)[Se]c1ccccc1[N+](=O)[O-]\n",
      "ERROR: No Gasteiger Partial Charge parameters for Element: Se Mode: sp3\n",
      "Error found when processing compound Rhodium dimer\n",
      "Smiles: Cl[Rh+]12(Cl)([n+]3ccc(-c4ccccc4)c4ccc5c(-c6ccccc6)cc[n+]1c5c43)[n+]1ccc(-c3ccccc3)c3ccc4c(-c5ccccc5)cc[n+]2c4c31.[Cl-]\n",
      "ERROR: No Gasteiger Partial Charge parameters for Element: Rh Mode: \n"
     ]
    },
    {
     "name": "stderr",
     "output_type": "stream",
     "text": [
      " 74%|███████▍  | 1115/1500 [00:37<00:10, 36.00it/s]"
     ]
    },
    {
     "name": "stdout",
     "output_type": "stream",
     "text": [
      "Error found when processing compound (5-(5-(5-(hydroxymethyl)-2-thienyl)-2-furyl)-2-thienyl)methanol (ACD/Name)\n",
      "Smiles: c1ccc([PH]([Au+][n+]2cc[n-]c2)(c2ccccc2)c2ccccc2)cc1\n",
      "ERROR: No Gasteiger Partial Charge parameters for Element: P Mode: \n",
      "Error found when processing compound (5-(5-(5-(hydroxymethyl)-2-thienyl)-2-furyl)-2-thienyl)methanol (ACD/Name)\n",
      "Smiles: c1ccc(Cn2cc[n+]3c2[Au][n+]2ccn(Cc4ccccc4)c2[Au][n+]2ccn(Cc4ccccc4)c2[Au]3)cc1\n",
      "ERROR: No Gasteiger Partial Charge parameters for Element: Au Mode: \n"
     ]
    },
    {
     "name": "stderr",
     "output_type": "stream",
     "text": [
      " 75%|███████▌  | 1132/1500 [00:37<00:10, 34.96it/s]"
     ]
    },
    {
     "name": "stdout",
     "output_type": "stream",
     "text": [
      "Error found when processing compound N,N-Dimethylglycylaminophenylbenzoylurea (HCl salt)\n",
      "Smiles: CCCNC1=[S+][Cu]2(Cl)(Cl)[N+](=C(C)c3cccc[n+]32)[N-]1\n",
      "ERROR: No Gasteiger Partial Charge parameters for Element: Cu Mode: \n"
     ]
    },
    {
     "name": "stderr",
     "output_type": "stream",
     "text": [
      " 82%|████████▏ | 1236/1500 [00:41<00:08, 31.91it/s]"
     ]
    },
    {
     "name": "stdout",
     "output_type": "stream",
     "text": [
      "Error found when processing compound diphenyl(4-(phenyl(triphenylphosphoranylidene)methyl)phenyl)phosphine selenide (ACD/Name)\n",
      "Smiles: [Se]=P(c1ccccc1)(c1ccccc1)c1ccc(C(c2ccccc2)=P(c2ccccc2)(c2ccccc2)c2ccccc2)cc1\n",
      "ERROR: No Gasteiger Partial Charge parameters for Element: Se Mode: sp2\n"
     ]
    },
    {
     "name": "stderr",
     "output_type": "stream",
     "text": [
      " 91%|█████████ | 1365/1500 [00:45<00:04, 32.19it/s]"
     ]
    },
    {
     "name": "stdout",
     "output_type": "stream",
     "text": [
      "Error found when processing compound 3,4-di(1H-indol-3-yl)-1-methyl-2,5-pyrrolidinedione (ACD/Name)\n",
      "Smiles: CC(C)(C)C#CI1OC(=O)c2ccccc21\n",
      "ERROR: No Gasteiger Partial Charge parameters for Element: I Mode: \n"
     ]
    },
    {
     "name": "stderr",
     "output_type": "stream",
     "text": [
      " 95%|█████████▍| 1422/1500 [00:47<00:02, 33.48it/s]"
     ]
    },
    {
     "name": "stdout",
     "output_type": "stream",
     "text": [
      "Error found when processing compound 2-(6,11-dioxo-6,11-dihydrobenzo[b]acridin-12-yl)acrylaldehyde (ACD/Name)\n",
      "Smiles: Cc1cc[n+]([Pt+2]23[n+]4ccccc4-c4cccc([n+]42)-c2cccc[n+]23)cc1.F[B-](F)(F)F\n",
      "ERROR: No Gasteiger Partial Charge parameters for Element: Pt Mode: \n"
     ]
    },
    {
     "name": "stderr",
     "output_type": "stream",
     "text": [
      "100%|██████████| 1500/1500 [00:49<00:00, 30.28it/s]"
     ]
    },
    {
     "name": "stdout",
     "output_type": "stream",
     "text": [
      "Dropped 64 unfeaturizable compounds.\n",
      "Done!\n",
      "Spliting training and test data ... "
     ]
    },
    {
     "name": "stderr",
     "output_type": "stream",
     "text": [
      "\n"
     ]
    },
    {
     "name": "stdout",
     "output_type": "stream",
     "text": [
      "Done!\n",
      "Start training ...Fitting 5 folds for each of 27 candidates, totalling 135 fits\n"
     ]
    },
    {
     "name": "stderr",
     "output_type": "stream",
     "text": [
      "[Parallel(n_jobs=-1)]: Using backend LokyBackend with 4 concurrent workers.\n",
      "[Parallel(n_jobs=-1)]: Done   5 tasks      | elapsed:    6.1s\n",
      "[Parallel(n_jobs=-1)]: Done  10 tasks      | elapsed:    6.8s\n",
      "[Parallel(n_jobs=-1)]: Done  17 tasks      | elapsed:    8.2s\n",
      "[Parallel(n_jobs=-1)]: Done  24 tasks      | elapsed:    9.5s\n",
      "[Parallel(n_jobs=-1)]: Done  33 tasks      | elapsed:   12.1s\n",
      "[Parallel(n_jobs=-1)]: Done  42 tasks      | elapsed:   13.9s\n",
      "[Parallel(n_jobs=-1)]: Done  53 tasks      | elapsed:   16.6s\n",
      "[Parallel(n_jobs=-1)]: Done  64 tasks      | elapsed:   19.1s\n",
      "[Parallel(n_jobs=-1)]: Done  77 tasks      | elapsed:   21.9s\n",
      "[Parallel(n_jobs=-1)]: Done  90 tasks      | elapsed:   25.3s\n",
      "[Parallel(n_jobs=-1)]: Done 105 tasks      | elapsed:   28.0s\n",
      "[Parallel(n_jobs=-1)]: Done 120 tasks      | elapsed:   29.9s\n",
      "[Parallel(n_jobs=-1)]: Done 135 out of 135 | elapsed:   33.6s finished\n"
     ]
    },
    {
     "name": "stdout",
     "output_type": "stream",
     "text": [
      "Best score: 0.9015682551737232\n",
      "Done!\n",
      "Best model:\n",
      "Pipeline(steps=[('sclr', DummyScaler(scaler=StandardScaler())),\n",
      "                ('clf', SVC(C=1000, gamma=0.0001, probability=True))])\n",
      "Evaluate model on test data ... Done! Score: 0.8854166666666666\n",
      "Getting full score set ... Done! Full scores: {'stats': {'tp': 0.0, 'fp': 2.0, 'tn': 255.0, 'fn': 31.0}, 'score': {'roc_auc': 0.6644910254801054, 'accuracy': 0.8854166666666666}}\n",
      "Plotting ROC for test data ... "
     ]
    },
    {
     "data": {
      "image/png": "[encoded data removed]",
      "text/plain": [
       "<Figure size 576x576 with 1 Axes>"
      ]
     },
     "metadata": {},
     "output_type": "display_data"
    },
    {
     "name": "stdout",
     "output_type": "stream",
     "text": [
      "Done!\n"
     ]
    }
   ],
   "source": [
    "m7p = MRP7Pred(train_new=True)\n",
    "m7p.run_train(df, train_test_ratio=0.8, grid=grid)"
   ]
  },
  {
   "cell_type": "code",
   "execution_count": null,
   "metadata": {},
   "outputs": [],
   "source": []
  }
 ],
 "metadata": {
  "kernelspec": {
   "display_name": "MRP7Pred",
   "language": "python",
   "name": "mrp7pred"
  },
  "language_info": {
   "codemirror_mode": {
    "name": "ipython",
    "version": 3
   },
   "file_extension": ".py",
   "mimetype": "text/x-python",
   "name": "python",
   "nbconvert_exporter": "python",
   "pygments_lexer": "ipython3",
   "version": "3.7.8"
  }
 },
 "nbformat": 4,
 "nbformat_minor": 4
}

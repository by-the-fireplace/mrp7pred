{
 "cells": [
  {
   "cell_type": "markdown",
   "metadata": {},
   "source": [
    "# Train new models using new dataset (1500 compounds)"
   ]
  },
  {
   "cell_type": "code",
   "execution_count": 9,
   "metadata": {},
   "outputs": [
    {
     "name": "stdout",
     "output_type": "stream",
     "text": [
      "The autoreload extension is already loaded. To reload it, use:\n",
      "  %reload_ext autoreload\n"
     ]
    }
   ],
   "source": [
    "# Autoreload modules\n",
    "%load_ext autoreload\n",
    "%autoreload 2\n",
    "\n",
    "# Add local path\n",
    "import sys\n",
    "sys.path.append(\"/Users/Jphild/Documents/Papers/_***Thesis/MRP7Pred/\")\n",
    "\n",
    "# Disable warnings\n",
    "import warnings\n",
    "warnings.filterwarnings(\"ignore\")\n",
    "\n",
    "import pandas as pd\n",
    "import numpy as np\n",
    "\n",
    "from pandas import DataFrame\n",
    "from numpy import ndarray\n",
    "from typing import Union, Any, Dict, Tuple, List\n",
    "\n",
    "# Local modules\n",
    "from mrp7pred.utils import (DATA, OUTPUT, ensure_folder, get_current_time, get_scoring,\n",
    "                   plot_roc_auc)\n",
    "from mrp7pred.MRP7Pred import MRP7Pred\n",
    "from mrp7pred.grid import grid"
   ]
  },
  {
   "cell_type": "markdown",
   "metadata": {},
   "source": [
    "#### 1. Load data and get basic statistics"
   ]
  },
  {
   "cell_type": "code",
   "execution_count": 10,
   "metadata": {},
   "outputs": [
    {
     "data": {
      "text/html": [
       "<div>\n",
       "<style scoped>\n",
       "    .dataframe tbody tr th:only-of-type {\n",
       "        vertical-align: middle;\n",
       "    }\n",
       "\n",
       "    .dataframe tbody tr th {\n",
       "        vertical-align: top;\n",
       "    }\n",
       "\n",
       "    .dataframe thead th {\n",
       "        text-align: right;\n",
       "    }\n",
       "</style>\n",
       "<table border=\"1\" class=\"dataframe\">\n",
       "  <thead>\n",
       "    <tr style=\"text-align: right;\">\n",
       "      <th></th>\n",
       "      <th>name</th>\n",
       "      <th>label</th>\n",
       "      <th>std_smiles</th>\n",
       "    </tr>\n",
       "  </thead>\n",
       "  <tbody>\n",
       "    <tr>\n",
       "      <th>0</th>\n",
       "      <td>paclitaxel</td>\n",
       "      <td>1</td>\n",
       "      <td>CC(=O)OC1C(=O)C2(C)C(O)CC3OCC3(OC(C)=O)C2C(OC(...</td>\n",
       "    </tr>\n",
       "    <tr>\n",
       "      <th>1</th>\n",
       "      <td>vincristine</td>\n",
       "      <td>1</td>\n",
       "      <td>CCC1(O)CC2CN(CCc3c([nH]c4ccccc34)C(C(=O)OC)(c3...</td>\n",
       "    </tr>\n",
       "    <tr>\n",
       "      <th>2</th>\n",
       "      <td>LTC4</td>\n",
       "      <td>1</td>\n",
       "      <td>CCCCCC=CCC=CC=CC=CC(SCC(NC(=O)CCC(N)C(=O)O)C(=...</td>\n",
       "    </tr>\n",
       "    <tr>\n",
       "      <th>3</th>\n",
       "      <td>E217bG</td>\n",
       "      <td>1</td>\n",
       "      <td>CC12CCC3c4ccc(O)cc4CCC3C1CCC2OC1OC(C(=O)O)C(O)...</td>\n",
       "    </tr>\n",
       "    <tr>\n",
       "      <th>4</th>\n",
       "      <td>gemcitabine</td>\n",
       "      <td>1</td>\n",
       "      <td>Nc1ccn(C2OC(CO)C(O)C2(F)F)c(=O)n1</td>\n",
       "    </tr>\n",
       "  </tbody>\n",
       "</table>\n",
       "</div>"
      ],
      "text/plain": [
       "          name  label                                         std_smiles\n",
       "0   paclitaxel      1  CC(=O)OC1C(=O)C2(C)C(O)CC3OCC3(OC(C)=O)C2C(OC(...\n",
       "1  vincristine      1  CCC1(O)CC2CN(CCc3c([nH]c4ccccc34)C(C(=O)OC)(c3...\n",
       "2         LTC4      1  CCCCCC=CCC=CC=CC=CC(SCC(NC(=O)CCC(N)C(=O)O)C(=...\n",
       "3       E217bG      1  CC12CCC3c4ccc(O)cc4CCC3C1CCC2OC1OC(C(=O)O)C(O)...\n",
       "4  gemcitabine      1                  Nc1ccn(C2OC(CO)C(O)C2(F)F)c(=O)n1"
      ]
     },
     "execution_count": 10,
     "metadata": {},
     "output_type": "execute_result"
    }
   ],
   "source": [
    "df = pd.read_csv(f\"../data/all_compounds_with_std_smiles.csv\", index_col=0)\n",
    "df.head()"
   ]
  },
  {
   "cell_type": "code",
   "execution_count": null,
   "metadata": {},
   "outputs": [],
   "source": [
    "m7p = MRP7Pred(train_new=True)\n",
    "m7p.run_train(df, train_test_ratio=0.8, grid=grid)"
   ]
  }
 ],
 "metadata": {
  "kernelspec": {
   "display_name": "MRP7Pred",
   "language": "python",
   "name": "mrp7pred"
  },
  "language_info": {
   "codemirror_mode": {
    "name": "ipython",
    "version": 3
   },
   "file_extension": ".py",
   "mimetype": "text/x-python",
   "name": "python",
   "nbconvert_exporter": "python",
   "pygments_lexer": "ipython3",
   "version": "3.7.8"
  }
 },
 "nbformat": 4,
 "nbformat_minor": 4
}

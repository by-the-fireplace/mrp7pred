{
 "cells": [
  {
   "cell_type": "markdown",
   "metadata": {},
   "source": [
    "# Test if positive-negative ratio in training data affects the predictor"
   ]
  },
  {
   "cell_type": "code",
   "execution_count": 79,
   "metadata": {},
   "outputs": [
    {
     "name": "stdout",
     "output_type": "stream",
     "text": [
      "The autoreload extension is already loaded. To reload it, use:\n",
      "  %reload_ext autoreload\n"
     ]
    }
   ],
   "source": [
    "# Autoreload modules\n",
    "%load_ext autoreload\n",
    "%autoreload 2\n",
    "\n",
    "# Add local path\n",
    "import sys\n",
    "sys.path.append(\"/Users/Jphild/Documents/Papers/_***Thesis/MRP7Pred/\")\n",
    "\n",
    "import pandas as pd\n",
    "import numpy as np\n",
    "\n",
    "from pandas import DataFrame\n",
    "from numpy import ndarray\n",
    "from typing import Union, Any, Dict, Tuple, List"
   ]
  },
  {
   "cell_type": "markdown",
   "metadata": {},
   "source": [
    "### 1. Load positive and negative dataset"
   ]
  },
  {
   "cell_type": "code",
   "execution_count": 2,
   "metadata": {},
   "outputs": [
    {
     "data": {
      "text/plain": [
       "(53, 63, 0.8412698412698413)"
      ]
     },
     "execution_count": 2,
     "metadata": {},
     "output_type": "execute_result"
    }
   ],
   "source": [
    "df_pos = pd.read_csv(\"../data/positive.csv\")\n",
    "df_neg = pd.read_csv(\"../data/negative.csv\")\n",
    "\n",
    "len(df_pos), len(df_neg), len(df_pos)/len(df_neg)"
   ]
  },
  {
   "cell_type": "markdown",
   "metadata": {},
   "source": [
    "### 2. Create training data with different pos:neg ratio"
   ]
  },
  {
   "cell_type": "code",
   "execution_count": 44,
   "metadata": {},
   "outputs": [],
   "source": [
    "def split_pos_neg(\n",
    "    df_pos: DataFrame,\n",
    "    df_neg: DataFrame,\n",
    "    n_pos: int,\n",
    "    n_neg: int\n",
    ") -> DataFrame:\n",
    "    chosen_idx_pos = np.random.choice(len(df_pos), replace=False, size=n_pos)\n",
    "    chosen_idx_neg = np.random.choice(len(df_neg), replace=False, size=n_neg)\n",
    "    label = [1] * n_pos + [0] * n_neg\n",
    "    df = pd.concat([\n",
    "        df_pos.iloc[chosen_idx_pos, :],\n",
    "        df_neg.iloc[chosen_idx_neg, :]\n",
    "    ], axis=0)\n",
    "    df = df.rename(columns={'compound_name': 'name', 'Canonical SMILES': 'smiles'})\n",
    "    df = df[[\"name\", \"smiles\"]].reset_index(drop=True)\n",
    "    df[\"label\"] = label\n",
    "    return df"
   ]
  },
  {
   "cell_type": "code",
   "execution_count": 45,
   "metadata": {},
   "outputs": [
    {
     "data": {
      "text/plain": [
       "60"
      ]
     },
     "execution_count": 45,
     "metadata": {},
     "output_type": "execute_result"
    }
   ],
   "source": [
    "# 1. pos >> neg\n",
    "# pos: 50\n",
    "# neg: 10\n",
    "\n",
    "df_more_pos = split_pos_neg(df_pos, df_neg, n_pos=50, n_neg=10)\n",
    "len(df_more_pos)"
   ]
  },
  {
   "cell_type": "code",
   "execution_count": 46,
   "metadata": {},
   "outputs": [
    {
     "data": {
      "text/html": [
       "<div>\n",
       "<style scoped>\n",
       "    .dataframe tbody tr th:only-of-type {\n",
       "        vertical-align: middle;\n",
       "    }\n",
       "\n",
       "    .dataframe tbody tr th {\n",
       "        vertical-align: top;\n",
       "    }\n",
       "\n",
       "    .dataframe thead th {\n",
       "        text-align: right;\n",
       "    }\n",
       "</style>\n",
       "<table border=\"1\" class=\"dataframe\">\n",
       "  <thead>\n",
       "    <tr style=\"text-align: right;\">\n",
       "      <th></th>\n",
       "      <th>name</th>\n",
       "      <th>smiles</th>\n",
       "      <th>label</th>\n",
       "    </tr>\n",
       "  </thead>\n",
       "  <tbody>\n",
       "    <tr>\n",
       "      <th>0</th>\n",
       "      <td>﻿17-betaEstradiol</td>\n",
       "      <td>CC12CCC3C(C1CCC2O)CCC4=C3C=CC(=C4)O</td>\n",
       "      <td>1</td>\n",
       "    </tr>\n",
       "    <tr>\n",
       "      <th>1</th>\n",
       "      <td>Sulfinpyrazone</td>\n",
       "      <td>C1=CC=C(C=C1)N2C(=O)C(C(=O)N2C3=CC=CC=C3)CCS(=...</td>\n",
       "      <td>1</td>\n",
       "    </tr>\n",
       "    <tr>\n",
       "      <th>2</th>\n",
       "      <td>gemcitabine</td>\n",
       "      <td>C1=CN(C(=O)N=C1N)C2C(C(C(O2)CO)O)(F)F</td>\n",
       "      <td>1</td>\n",
       "    </tr>\n",
       "    <tr>\n",
       "      <th>3</th>\n",
       "      <td>PD-173074</td>\n",
       "      <td>CCN(CC)CCCCNC1=NC2=NC(=C(C=C2C=N1)C3=CC(=CC(=C...</td>\n",
       "      <td>1</td>\n",
       "    </tr>\n",
       "    <tr>\n",
       "      <th>4</th>\n",
       "      <td>﻿Glycolithocholate-3-sulfate</td>\n",
       "      <td>CC(CCC(=O)NCC(=O)O)C1CCC2C1(CCC3C2CCC4C3(CCC(C...</td>\n",
       "      <td>1</td>\n",
       "    </tr>\n",
       "  </tbody>\n",
       "</table>\n",
       "</div>"
      ],
      "text/plain": [
       "                           name  \\\n",
       "0             ﻿17-betaEstradiol   \n",
       "1                Sulfinpyrazone   \n",
       "2                   gemcitabine   \n",
       "3                     PD-173074   \n",
       "4  ﻿Glycolithocholate-3-sulfate   \n",
       "\n",
       "                                              smiles  label  \n",
       "0                CC12CCC3C(C1CCC2O)CCC4=C3C=CC(=C4)O      1  \n",
       "1  C1=CC=C(C=C1)N2C(=O)C(C(=O)N2C3=CC=CC=C3)CCS(=...      1  \n",
       "2              C1=CN(C(=O)N=C1N)C2C(C(C(O2)CO)O)(F)F      1  \n",
       "3  CCN(CC)CCCCNC1=NC2=NC(=C(C=C2C=N1)C3=CC(=CC(=C...      1  \n",
       "4  CC(CCC(=O)NCC(=O)O)C1CCC2C1(CCC3C2CCC4C3(CCC(C...      1  "
      ]
     },
     "execution_count": 46,
     "metadata": {},
     "output_type": "execute_result"
    }
   ],
   "source": [
    "df_more_pos.head()"
   ]
  },
  {
   "cell_type": "code",
   "execution_count": 47,
   "metadata": {},
   "outputs": [
    {
     "data": {
      "text/plain": [
       "60"
      ]
     },
     "execution_count": 47,
     "metadata": {},
     "output_type": "execute_result"
    }
   ],
   "source": [
    "# 2. pos == neg\n",
    "# pos: 30\n",
    "# neg: 30\n",
    "\n",
    "df_balance = split_pos_neg(df_pos, df_neg, n_pos=30, n_neg=30)\n",
    "len(df_more_pos)"
   ]
  },
  {
   "cell_type": "code",
   "execution_count": 48,
   "metadata": {},
   "outputs": [
    {
     "data": {
      "text/html": [
       "<div>\n",
       "<style scoped>\n",
       "    .dataframe tbody tr th:only-of-type {\n",
       "        vertical-align: middle;\n",
       "    }\n",
       "\n",
       "    .dataframe tbody tr th {\n",
       "        vertical-align: top;\n",
       "    }\n",
       "\n",
       "    .dataframe thead th {\n",
       "        text-align: right;\n",
       "    }\n",
       "</style>\n",
       "<table border=\"1\" class=\"dataframe\">\n",
       "  <thead>\n",
       "    <tr style=\"text-align: right;\">\n",
       "      <th></th>\n",
       "      <th>name</th>\n",
       "      <th>smiles</th>\n",
       "      <th>label</th>\n",
       "    </tr>\n",
       "  </thead>\n",
       "  <tbody>\n",
       "    <tr>\n",
       "      <th>0</th>\n",
       "      <td>﻿Zaprinast</td>\n",
       "      <td>CCCOC1=CC=CC=C1C2=NC3=NNN=C3C(=O)N2</td>\n",
       "      <td>1</td>\n",
       "    </tr>\n",
       "    <tr>\n",
       "      <th>1</th>\n",
       "      <td>17beta-Estradiol 3-sulfate-17-(beta-D-glucuron...</td>\n",
       "      <td>CC12CCC3C(C1CCC2OC4C(C(C(C(O4)C(=O)[O-])O)O)O)...</td>\n",
       "      <td>1</td>\n",
       "    </tr>\n",
       "    <tr>\n",
       "      <th>2</th>\n",
       "      <td>﻿16alpha,17beta-Estriol 16-(beta-d-glucuronide)</td>\n",
       "      <td>CC12CCC3C(C1CC(C2O)OC4C(C(C(C(O4)C(=O)O)O)O)O)...</td>\n",
       "      <td>1</td>\n",
       "    </tr>\n",
       "    <tr>\n",
       "      <th>3</th>\n",
       "      <td>PD-173074</td>\n",
       "      <td>CCN(CC)CCCCNC1=NC2=NC(=C(C=C2C=N1)C3=CC(=CC(=C...</td>\n",
       "      <td>1</td>\n",
       "    </tr>\n",
       "    <tr>\n",
       "      <th>4</th>\n",
       "      <td>Methotrexate</td>\n",
       "      <td>CN(CC1=CN=C2C(=N1)C(=NC(=N2)N)N)C3=CC=C(C=C3)C...</td>\n",
       "      <td>1</td>\n",
       "    </tr>\n",
       "  </tbody>\n",
       "</table>\n",
       "</div>"
      ],
      "text/plain": [
       "                                                name  \\\n",
       "0                                         ﻿Zaprinast   \n",
       "1  17beta-Estradiol 3-sulfate-17-(beta-D-glucuron...   \n",
       "2    ﻿16alpha,17beta-Estriol 16-(beta-d-glucuronide)   \n",
       "3                                          PD-173074   \n",
       "4                                       Methotrexate   \n",
       "\n",
       "                                              smiles  label  \n",
       "0                CCCOC1=CC=CC=C1C2=NC3=NNN=C3C(=O)N2      1  \n",
       "1  CC12CCC3C(C1CCC2OC4C(C(C(C(O4)C(=O)[O-])O)O)O)...      1  \n",
       "2  CC12CCC3C(C1CC(C2O)OC4C(C(C(C(O4)C(=O)O)O)O)O)...      1  \n",
       "3  CCN(CC)CCCCNC1=NC2=NC(=C(C=C2C=N1)C3=CC(=CC(=C...      1  \n",
       "4  CN(CC1=CN=C2C(=N1)C(=NC(=N2)N)N)C3=CC=C(C=C3)C...      1  "
      ]
     },
     "execution_count": 48,
     "metadata": {},
     "output_type": "execute_result"
    }
   ],
   "source": [
    "df_balance.head()"
   ]
  },
  {
   "cell_type": "code",
   "execution_count": 49,
   "metadata": {},
   "outputs": [
    {
     "data": {
      "text/plain": [
       "60"
      ]
     },
     "execution_count": 49,
     "metadata": {},
     "output_type": "execute_result"
    }
   ],
   "source": [
    "# 3. pos << neg\n",
    "# pos: 10\n",
    "# neg: 50\n",
    "\n",
    "df_more_neg = split_pos_neg(df_pos, df_neg, n_pos=10, n_neg=50)\n",
    "len(df_more_neg)"
   ]
  },
  {
   "cell_type": "code",
   "execution_count": 50,
   "metadata": {},
   "outputs": [
    {
     "data": {
      "text/html": [
       "<div>\n",
       "<style scoped>\n",
       "    .dataframe tbody tr th:only-of-type {\n",
       "        vertical-align: middle;\n",
       "    }\n",
       "\n",
       "    .dataframe tbody tr th {\n",
       "        vertical-align: top;\n",
       "    }\n",
       "\n",
       "    .dataframe thead th {\n",
       "        text-align: right;\n",
       "    }\n",
       "</style>\n",
       "<table border=\"1\" class=\"dataframe\">\n",
       "  <thead>\n",
       "    <tr style=\"text-align: right;\">\n",
       "      <th></th>\n",
       "      <th>name</th>\n",
       "      <th>smiles</th>\n",
       "      <th>label</th>\n",
       "    </tr>\n",
       "  </thead>\n",
       "  <tbody>\n",
       "    <tr>\n",
       "      <th>0</th>\n",
       "      <td>vinblastine</td>\n",
       "      <td>CCC1(CC2CC(C3=C(CCN(C2)C1)C4=CC=CC=C4N3)(C5=C(...</td>\n",
       "      <td>1</td>\n",
       "    </tr>\n",
       "    <tr>\n",
       "      <th>1</th>\n",
       "      <td>gemcitabine</td>\n",
       "      <td>C1=CN(C(=O)N=C1N)C2C(C(C(O2)CO)O)(F)F</td>\n",
       "      <td>1</td>\n",
       "    </tr>\n",
       "    <tr>\n",
       "      <th>2</th>\n",
       "      <td>Verapamil</td>\n",
       "      <td>CC(C)C(CCCN(C)CCC1=CC(=C(C=C1)OC)OC)(C#N)C2=CC...</td>\n",
       "      <td>1</td>\n",
       "    </tr>\n",
       "    <tr>\n",
       "      <th>3</th>\n",
       "      <td>Etoposide</td>\n",
       "      <td>CC1OCC2C(O1)C(C(C(O2)OC3C4COC(=O)C4C(C5=CC6=C(...</td>\n",
       "      <td>1</td>\n",
       "    </tr>\n",
       "    <tr>\n",
       "      <th>4</th>\n",
       "      <td>AlstolucinesB</td>\n",
       "      <td>CC(=O)C1CN2CCC34C2CC1C(=C3NC5=CC=CC=C45)C(=O)OC</td>\n",
       "      <td>1</td>\n",
       "    </tr>\n",
       "  </tbody>\n",
       "</table>\n",
       "</div>"
      ],
      "text/plain": [
       "             name                                             smiles  label\n",
       "0     vinblastine  CCC1(CC2CC(C3=C(CCN(C2)C1)C4=CC=CC=C4N3)(C5=C(...      1\n",
       "1     gemcitabine              C1=CN(C(=O)N=C1N)C2C(C(C(O2)CO)O)(F)F      1\n",
       "2       Verapamil  CC(C)C(CCCN(C)CCC1=CC(=C(C=C1)OC)OC)(C#N)C2=CC...      1\n",
       "3       Etoposide  CC1OCC2C(O1)C(C(C(O2)OC3C4COC(=O)C4C(C5=CC6=C(...      1\n",
       "4  AlstolucinesB     CC(=O)C1CN2CCC34C2CC1C(=C3NC5=CC=CC=C45)C(=O)OC      1"
      ]
     },
     "execution_count": 50,
     "metadata": {},
     "output_type": "execute_result"
    }
   ],
   "source": [
    "df_more_neg.head()"
   ]
  },
  {
   "cell_type": "markdown",
   "metadata": {},
   "source": [
    "### 3. Train models"
   ]
  },
  {
   "cell_type": "code",
   "execution_count": 97,
   "metadata": {},
   "outputs": [],
   "source": [
    "from grid import grid\n",
    "from utils import DATA, OUTPUT, plot_roc_auc, get_scoring, get_current_time, ensure_folder\n",
    "from preprocess import load_data, featurize_and_split\n",
    "from train import train\n",
    "\n",
    "from MRP7Pred import MRP7Pred\n",
    "\n",
    "def start_train(df, ratio, model_filename, print_log=False):\n",
    "    name_train, name_test, X_train, y_train, X_test, y_test = featurize_and_split(df, ratio=ratio)\n",
    "\n",
    "    print(\"Start training ...\", end=\"\", flush=True)\n",
    "    clf_best = train(X_train, y_train, model_dir=model_filename, print_log=print_log)\n",
    "    print(\"Done!\")\n",
    "\n",
    "    print(f\"Best model:\\n{clf_best}\")\n",
    "\n",
    "    print(\"Evaluate model on test data ... \", end=\"\", flush=True)\n",
    "    test_score = clf_best.score(X_test, y_test)\n",
    "    y_pred = clf_best.predict(X_test)\n",
    "    y_score = [score[1] for score in clf_best.predict_proba(X_test)]\n",
    "    print(f\"Done! Score: {test_score}\")\n",
    "\n",
    "    print(\"Getting full score set ... \", end=\"\", flush=True)\n",
    "    test_scores = get_scoring(y_test, y_score, y_pred)\n",
    "    print(f\"Done! Full scores: {test_scores}\")"
   ]
  },
  {
   "cell_type": "code",
   "execution_count": 99,
   "metadata": {},
   "outputs": [],
   "source": [
    "# Training / Testing\n",
    "RATIO = 0.5"
   ]
  },
  {
   "cell_type": "markdown",
   "metadata": {},
   "source": [
    "## 1. pos >> neg\n",
    "## pos: neg = 50 : 10"
   ]
  },
  {
   "cell_type": "code",
   "execution_count": 100,
   "metadata": {},
   "outputs": [
    {
     "name": "stdout",
     "output_type": "stream",
     "text": [
      "Featurzing data ... "
     ]
    },
    {
     "name": "stderr",
     "output_type": "stream",
     "text": [
      "100%|██████████| 60/60 [00:02<00:00, 22.29it/s]"
     ]
    },
    {
     "name": "stdout",
     "output_type": "stream",
     "text": [
      "Done!\n",
      "Spliting training and test data ... Done!\n",
      "Start training ..."
     ]
    },
    {
     "name": "stderr",
     "output_type": "stream",
     "text": [
      "\n"
     ]
    },
    {
     "name": "stdout",
     "output_type": "stream",
     "text": [
      "Fitting 5 folds for each of 27 candidates, totalling 135 fits\n"
     ]
    },
    {
     "name": "stderr",
     "output_type": "stream",
     "text": [
      "/Users/Jphild/anaconda3/envs/mrp7pred/lib/python3.7/site-packages/sklearn/model_selection/_split.py:672: UserWarning: The least populated class in y has only 4 members, which is less than n_splits=5.\n",
      "  % (min_groups, self.n_splits)), UserWarning)\n",
      "[Parallel(n_jobs=-1)]: Using backend LokyBackend with 4 concurrent workers.\n",
      "[Parallel(n_jobs=-1)]: Done   5 tasks      | elapsed:    4.8s\n",
      "[Parallel(n_jobs=-1)]: Done  10 tasks      | elapsed:    5.0s\n",
      "[Parallel(n_jobs=-1)]: Done  17 tasks      | elapsed:    5.0s\n",
      "[Parallel(n_jobs=-1)]: Done  24 tasks      | elapsed:    5.1s\n",
      "[Parallel(n_jobs=-1)]: Batch computation too fast (0.1877s.) Setting batch_size=2.\n",
      "[Parallel(n_jobs=-1)]: Done  33 tasks      | elapsed:    5.5s\n",
      "[Parallel(n_jobs=-1)]: Done  48 tasks      | elapsed:    6.7s\n",
      "[Parallel(n_jobs=-1)]: Done  70 tasks      | elapsed:    7.7s\n",
      "[Parallel(n_jobs=-1)]: Done  92 tasks      | elapsed:    8.3s\n",
      "[Parallel(n_jobs=-1)]: Done 118 tasks      | elapsed:    9.4s\n",
      "[Parallel(n_jobs=-1)]: Done 128 out of 135 | elapsed:   10.0s remaining:    0.5s\n"
     ]
    },
    {
     "name": "stdout",
     "output_type": "stream",
     "text": [
      "Best score: 0.8666666666666668\n",
      "Done!\n",
      "Best model:\n",
      "Pipeline(steps=[('sclr', DummyScaler(scaler=StandardScaler())),\n",
      "                ('clf', SVC(C=1, gamma=0.001, probability=True))])\n",
      "Evaluate model on test data ... Done! Score: 0.8\n",
      "Getting full score set ... Done! Full scores: {'stats': {'tp': 24.0, 'fp': 6.0, 'tn': 0.0, 'fn': 0.0}, 'score': {'roc_auc': 0.1736111111111111, 'accuracy': 0.8}}\n"
     ]
    },
    {
     "name": "stderr",
     "output_type": "stream",
     "text": [
      "[Parallel(n_jobs=-1)]: Done 135 out of 135 | elapsed:   10.6s finished\n"
     ]
    }
   ],
   "source": [
    "start_train(df_more_pos, RATIO, \"./pos_neg_ratio/more_positive\")"
   ]
  },
  {
   "cell_type": "code",
   "execution_count": 101,
   "metadata": {},
   "outputs": [
    {
     "name": "stdout",
     "output_type": "stream",
     "text": [
      "Loading trained model ... "
     ]
    },
    {
     "name": "stderr",
     "output_type": "stream",
     "text": [
      "  0%|          | 0/80 [00:00<?, ?it/s]"
     ]
    },
    {
     "name": "stdout",
     "output_type": "stream",
     "text": [
      "Done!\n",
      "Generating features ... \n"
     ]
    },
    {
     "name": "stderr",
     "output_type": "stream",
     "text": [
      "100%|██████████| 80/80 [00:03<00:00, 22.92it/s]"
     ]
    },
    {
     "name": "stdout",
     "output_type": "stream",
     "text": [
      "Done!\n",
      "Start predicting ...Done!\n",
      "Writing output ..."
     ]
    },
    {
     "name": "stderr",
     "output_type": "stream",
     "text": [
      "\n"
     ]
    },
    {
     "name": "stdout",
     "output_type": "stream",
     "text": [
      "Done!\n"
     ]
    },
    {
     "data": {
      "text/plain": [
       "(79, 1)"
      ]
     },
     "execution_count": 101,
     "metadata": {},
     "output_type": "execute_result"
    }
   ],
   "source": [
    "# Test on unknown data\n",
    "m7p_more_positive = MRP7Pred(\"./pos_neg_ratio/more_positive/best_model_20201224-224346.pkl\")\n",
    "df_more_positive_pred = m7p_more_positive.predict(\"../data/unknown.csv\")\n",
    "len(df_more_positive_pred[df_more_positive_pred[\"pred\"]==1]), len(df_more_positive_pred[df_more_positive_pred[\"pred\"]==0])"
   ]
  },
  {
   "cell_type": "markdown",
   "metadata": {},
   "source": [
    "## 2. pos == neg\n",
    "## pos: neg = 30 : 30"
   ]
  },
  {
   "cell_type": "code",
   "execution_count": 102,
   "metadata": {},
   "outputs": [
    {
     "name": "stdout",
     "output_type": "stream",
     "text": [
      "Featurzing data ... "
     ]
    },
    {
     "name": "stderr",
     "output_type": "stream",
     "text": [
      "100%|██████████| 60/60 [00:04<00:00, 14.15it/s]"
     ]
    },
    {
     "name": "stdout",
     "output_type": "stream",
     "text": [
      "Done!\n",
      "Spliting training and test data ... Done!\n",
      "Start training ..."
     ]
    },
    {
     "name": "stderr",
     "output_type": "stream",
     "text": [
      "\n",
      "[Parallel(n_jobs=-1)]: Using backend LokyBackend with 4 concurrent workers.\n",
      "[Parallel(n_jobs=-1)]: Done   1 tasks      | elapsed:    0.0s\n",
      "[Parallel(n_jobs=-1)]: Batch computation too fast (0.0355s.) Setting batch_size=2.\n",
      "[Parallel(n_jobs=-1)]: Batch computation too fast (0.0355s.) Setting batch_size=4.\n"
     ]
    },
    {
     "name": "stdout",
     "output_type": "stream",
     "text": [
      "Fitting 5 folds for each of 27 candidates, totalling 135 fits\n"
     ]
    },
    {
     "name": "stderr",
     "output_type": "stream",
     "text": [
      "[Parallel(n_jobs=-1)]: Done   7 tasks      | elapsed:    0.3s\n",
      "[Parallel(n_jobs=-1)]: Done  24 tasks      | elapsed:    0.9s\n",
      "[Parallel(n_jobs=-1)]: Done  52 tasks      | elapsed:    3.0s\n",
      "[Parallel(n_jobs=-1)]: Done  80 tasks      | elapsed:    3.6s\n",
      "[Parallel(n_jobs=-1)]: Done 113 tasks      | elapsed:    4.5s\n",
      "[Parallel(n_jobs=-1)]: Done 128 tasks      | elapsed:    5.6s\n"
     ]
    },
    {
     "name": "stdout",
     "output_type": "stream",
     "text": [
      "Best score: 0.9\n",
      "Done!\n",
      "Best model:\n",
      "Pipeline(steps=[('sclr', DummyScaler(scaler=StandardScaler())),\n",
      "                ('clf', SVC(C=50, gamma=0.0001, probability=True))])\n",
      "Evaluate model on test data ... Done! Score: 0.7666666666666667\n",
      "Getting full score set ... Done! Full scores: {'stats': {'tp': 13.0, 'fp': 4.0, 'tn': 10.0, 'fn': 3.0}, 'score': {'roc_auc': 0.7678571428571428, 'accuracy': 0.7666666666666667}}\n"
     ]
    },
    {
     "name": "stderr",
     "output_type": "stream",
     "text": [
      "[Parallel(n_jobs=-1)]: Done 135 out of 135 | elapsed:    6.2s finished\n"
     ]
    }
   ],
   "source": [
    "start_train(df_balance, RATIO, \"./pos_neg_ratio/balance\")"
   ]
  },
  {
   "cell_type": "code",
   "execution_count": 103,
   "metadata": {},
   "outputs": [
    {
     "name": "stdout",
     "output_type": "stream",
     "text": [
      "Loading trained model ... "
     ]
    },
    {
     "name": "stderr",
     "output_type": "stream",
     "text": [
      "  0%|          | 0/80 [00:00<?, ?it/s]"
     ]
    },
    {
     "name": "stdout",
     "output_type": "stream",
     "text": [
      "Done!\n",
      "Generating features ... \n"
     ]
    },
    {
     "name": "stderr",
     "output_type": "stream",
     "text": [
      "100%|██████████| 80/80 [00:03<00:00, 20.70it/s]"
     ]
    },
    {
     "name": "stdout",
     "output_type": "stream",
     "text": [
      "Done!\n",
      "Start predicting ..."
     ]
    },
    {
     "name": "stderr",
     "output_type": "stream",
     "text": [
      "\n"
     ]
    },
    {
     "name": "stdout",
     "output_type": "stream",
     "text": [
      "Done!\n",
      "Writing output ...Done!\n"
     ]
    },
    {
     "data": {
      "text/plain": [
       "(65, 15)"
      ]
     },
     "execution_count": 103,
     "metadata": {},
     "output_type": "execute_result"
    }
   ],
   "source": [
    "m7p_balance = MRP7Pred(\"./pos_neg_ratio/balance/best_model_20201224-225148.pkl\")\n",
    "df_balance_pred = m7p_balance.predict(\"../data/unknown.csv\")\n",
    "len(df_balance_pred[df_balance_pred[\"pred\"]==1]), len(df_balance_pred[df_balance_pred[\"pred\"]==0])"
   ]
  },
  {
   "cell_type": "markdown",
   "metadata": {},
   "source": [
    "## 3. pos << neg\n",
    "## pos: neg = 10 : 50"
   ]
  },
  {
   "cell_type": "code",
   "execution_count": 104,
   "metadata": {},
   "outputs": [
    {
     "name": "stdout",
     "output_type": "stream",
     "text": [
      "Featurzing data ... "
     ]
    },
    {
     "name": "stderr",
     "output_type": "stream",
     "text": [
      "100%|██████████| 60/60 [00:04<00:00, 14.52it/s]"
     ]
    },
    {
     "name": "stdout",
     "output_type": "stream",
     "text": [
      "Done!\n",
      "Spliting training and test data ... Done!\n",
      "Start training ..."
     ]
    },
    {
     "name": "stderr",
     "output_type": "stream",
     "text": [
      "\n",
      "[Parallel(n_jobs=-1)]: Using backend LokyBackend with 4 concurrent workers.\n"
     ]
    },
    {
     "name": "stdout",
     "output_type": "stream",
     "text": [
      "Fitting 5 folds for each of 27 candidates, totalling 135 fits\n"
     ]
    },
    {
     "name": "stderr",
     "output_type": "stream",
     "text": [
      "[Parallel(n_jobs=-1)]: Batch computation too fast (0.0851s.) Setting batch_size=2.\n",
      "[Parallel(n_jobs=-1)]: Done   5 tasks      | elapsed:    0.4s\n",
      "[Parallel(n_jobs=-1)]: Done  12 tasks      | elapsed:    0.5s\n",
      "[Parallel(n_jobs=-1)]: Done  26 tasks      | elapsed:    0.7s\n",
      "[Parallel(n_jobs=-1)]: Done  40 tasks      | elapsed:    1.4s\n",
      "[Parallel(n_jobs=-1)]: Done  58 tasks      | elapsed:    2.0s\n",
      "[Parallel(n_jobs=-1)]: Done  76 tasks      | elapsed:    2.7s\n",
      "[Parallel(n_jobs=-1)]: Done  98 tasks      | elapsed:    3.3s\n",
      "[Parallel(n_jobs=-1)]: Done 120 tasks      | elapsed:    4.5s\n",
      "[Parallel(n_jobs=-1)]: Done 128 out of 135 | elapsed:    5.1s remaining:    0.3s\n"
     ]
    },
    {
     "name": "stdout",
     "output_type": "stream",
     "text": [
      "Best score: 0.9333333333333333\n",
      "Done!\n",
      "Best model:\n",
      "Pipeline(steps=[('sclr', DummyScaler(scaler=MinMaxScaler())),\n",
      "                ('clf',\n",
      "                 MLPClassifier(alpha=1e-05, hidden_layer_sizes=12,\n",
      "                               solver='lbfgs'))])\n",
      "Evaluate model on test data ... Done! Score: 0.7666666666666667\n",
      "Getting full score set ... Done! Full scores: {'stats': {'tp': 2.0, 'fp': 4.0, 'tn': 21.0, 'fn': 3.0}, 'score': {'roc_auc': 0.552, 'accuracy': 0.7666666666666667}}\n"
     ]
    },
    {
     "name": "stderr",
     "output_type": "stream",
     "text": [
      "[Parallel(n_jobs=-1)]: Done 135 out of 135 | elapsed:    5.8s finished\n"
     ]
    }
   ],
   "source": [
    "start_train(df_more_neg, RATIO, \"./pos_neg_ratio/more_neg\")"
   ]
  },
  {
   "cell_type": "code",
   "execution_count": 105,
   "metadata": {},
   "outputs": [
    {
     "name": "stdout",
     "output_type": "stream",
     "text": [
      "Loading trained model ... "
     ]
    },
    {
     "name": "stderr",
     "output_type": "stream",
     "text": [
      "  4%|▍         | 3/80 [00:00<00:02, 26.49it/s]"
     ]
    },
    {
     "name": "stdout",
     "output_type": "stream",
     "text": [
      "Done!\n",
      "Generating features ... \n"
     ]
    },
    {
     "name": "stderr",
     "output_type": "stream",
     "text": [
      "100%|██████████| 80/80 [00:02<00:00, 28.20it/s]"
     ]
    },
    {
     "name": "stdout",
     "output_type": "stream",
     "text": [
      "Done!\n",
      "Start predicting ...Done!\n",
      "Writing output ..."
     ]
    },
    {
     "name": "stderr",
     "output_type": "stream",
     "text": [
      "\n"
     ]
    },
    {
     "name": "stdout",
     "output_type": "stream",
     "text": [
      "Done!\n"
     ]
    },
    {
     "data": {
      "text/plain": [
       "(22, 58)"
      ]
     },
     "execution_count": 105,
     "metadata": {},
     "output_type": "execute_result"
    }
   ],
   "source": [
    "m7p_more_neg = MRP7Pred(\"./pos_neg_ratio/more_neg/best_model_20201224-225558.pkl\")\n",
    "df_more_neg_pred = m7p_more_neg.predict(\"../data/unknown.csv\")\n",
    "len(df_more_neg_pred[df_more_neg_pred[\"pred\"]==1]), len(df_more_neg_pred[df_more_neg_pred[\"pred\"]==0])"
   ]
  },
  {
   "cell_type": "markdown",
   "metadata": {},
   "source": [
    "# Conclusions\n",
    "If the training set has much more positive than negative, the trained model will tend to predict unknown cases as positive and vice versa. "
   ]
  },
  {
   "cell_type": "code",
   "execution_count": null,
   "metadata": {},
   "outputs": [],
   "source": []
  }
 ],
 "metadata": {
  "kernelspec": {
   "display_name": "MRP7Pred",
   "language": "python",
   "name": "mrp7pred"
  },
  "language_info": {
   "codemirror_mode": {
    "name": "ipython",
    "version": 3
   },
   "file_extension": ".py",
   "mimetype": "text/x-python",
   "name": "python",
   "nbconvert_exporter": "python",
   "pygments_lexer": "ipython3",
   "version": "3.7.8"
  }
 },
 "nbformat": 4,
 "nbformat_minor": 4
}

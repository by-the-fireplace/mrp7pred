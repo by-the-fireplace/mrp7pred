{
 "cells": [
  {
   "cell_type": "markdown",
   "metadata": {},
   "source": [
    "# Feature Engineering"
   ]
  },
  {
   "cell_type": "markdown",
   "metadata": {},
   "source": [
    "Generate new features (1/2D descriptors) based on [ChemDes](https://jcheminf.biomedcentral.com/articles/10.1186/s13321-015-0109-z)\n",
    "\n",
    "List of putative features could be found in `../data/feature_list.xlsx`\n",
    "\n",
    "* BlueDesc source code is not available.\n",
    "* CDK and PaDEL are written in Java"
   ]
  },
  {
   "cell_type": "code",
   "execution_count": 1,
   "metadata": {},
   "outputs": [],
   "source": [
    "from pandas import DataFrame\n",
    "import numpy as np\n",
    "from tqdm import tqdm"
   ]
  },
  {
   "cell_type": "markdown",
   "metadata": {},
   "source": [
    "## 1. Generate RDK features\n",
    "\n",
    "ChemDes has **196** 2D descriptors from RDK"
   ]
  },
  {
   "cell_type": "code",
   "execution_count": 5,
   "metadata": {},
   "outputs": [
    {
     "ename": "ModuleNotFoundError",
     "evalue": "No module named 'cinfony'",
     "output_type": "error",
     "traceback": [
      "\u001b[0;31m---------------------------------------------------------------------------\u001b[0m",
      "\u001b[0;31mModuleNotFoundError\u001b[0m                       Traceback (most recent call last)",
      "\u001b[0;32m<ipython-input-5-528f75572129>\u001b[0m in \u001b[0;36m<module>\u001b[0;34m\u001b[0m\n\u001b[1;32m     14\u001b[0m \u001b[0;32mfrom\u001b[0m \u001b[0mrdkit\u001b[0m\u001b[0;34m.\u001b[0m\u001b[0mChem\u001b[0m \u001b[0;32mimport\u001b[0m \u001b[0mrdMolDescriptors\u001b[0m \u001b[0;32mas\u001b[0m \u001b[0m_rdMolDescriptors\u001b[0m\u001b[0;34m\u001b[0m\u001b[0;34m\u001b[0m\u001b[0m\n\u001b[1;32m     15\u001b[0m \u001b[0;34m\u001b[0m\u001b[0m\n\u001b[0;32m---> 16\u001b[0;31m \u001b[0;32mfrom\u001b[0m \u001b[0mcinfony\u001b[0m \u001b[0;32mimport\u001b[0m \u001b[0mrdk\u001b[0m\u001b[0;34m\u001b[0m\u001b[0;34m\u001b[0m\u001b[0m\n\u001b[0m",
      "\u001b[0;31mModuleNotFoundError\u001b[0m: No module named 'cinfony'"
     ]
    }
   ],
   "source": [
    "# Autoreload modules\n",
    "%load_ext autoreload\n",
    "%autoreload 2\n",
    "\n",
    "# Add local path\n",
    "import sys\n",
    "sys.path.append(\"/Users/Jphild/Documents/Papers/_***Thesis/MRP7Pred/\")\n",
    "\n",
    "# Disable warnings\n",
    "import warnings\n",
    "warnings.filterwarnings(\"ignore\")\n",
    "\n",
    "from rdkit import Chem\n",
    "from rdkit.Chem import rdMolDescriptors as _rdMolDescriptors\n",
    "\n",
    "from cinfony import rdk"
   ]
  },
  {
   "cell_type": "markdown",
   "metadata": {},
   "source": [
    "# feature_list = (\n",
    "    [\n",
    "        \"atomic_mass_high\",\n",
    "        \"atomic_mass_low\",\n",
    "        \"gasteiger_charge_high\",\n",
    "        \"gasteiger_charge_low\",\n",
    "        \"crippen_logp_high\",\n",
    "        \"crippen_logp_low\",\n",
    "        \"crippen_mr_high\",\n",
    "        \"crippen_mr_low\",\n",
    "        \"chi0n\",\n",
    "        \"chi1n\",\n",
    "        \"chi2n\",\n",
    "        \"chi3n\",\n",
    "        \"chi4n\",\n",
    "        \"chi0v\",\n",
    "        \"chi1v\",\n",
    "        \"chi2v\",\n",
    "        \"chi3v\",\n",
    "        \"chi4v\",\n",
    "        \"MolLogP\",\n",
    "        \"MolMR\",\n",
    "        \"ExactMolWt\",\n",
    "        \"FractionCSP3\",\n",
    "        \"HallKierAlpha\",\n",
    "        \"Kappa1\",\n",
    "        \"Kappa2\",\n",
    "        \"Kappa3\",\n",
    "        \"LabuteASA\",\n",
    "        \"NumHeterocycles\",\n",
    "        \"NumAromaticHeterocycles\",\n",
    "        \"NumSaturatedHeterocycles\",\n",
    "        \"NumAliphaticHeterocycles\",\n",
    "        \"NumAromaticCarbocycles\",\n",
    "        \"NumSaturatedCarbocycles\",\n",
    "        \"NumAliphaticCarbocycles\",\n",
    "        \"NumRings\",\n",
    "        \"NumAromaticRings\",\n",
    "        \"NumSaturatedRings\",\n",
    "        \"NumAliphaticRings\",\n",
    "        \"NumAtomStereoCenters\",\n",
    "        \"NumBridgeheadAtoms\",\n",
    "        \"NumHBA\",\n",
    "        \"NumHBD\",\n",
    "        \"NumHeteroatoms\",\n",
    "        \"NumLipinskiHBA\",\n",
    "        \"NumLipinskiHBD\",\n",
    "        \"NumRotatableBonds\",\n",
    "        \"NumSpiroAtoms\",\n",
    "        \"TPSA\",\n",
    "    ]\n",
    "    + [f\"PEOE_VSA{i}\" for i in range(1, 15)]\n",
    "    + [f\"SMR_VSA{i}\" for i in range(1, 11)]\n",
    "    + [f\"SlogP_VSA{i}\" for i in range(1, 13)]\n",
    "    + [f\"MQN{i}\" for i in range(1, 43)]\n",
    ")"
   ]
  },
  {
   "cell_type": "code",
   "execution_count": 4,
   "metadata": {},
   "outputs": [
    {
     "data": {
      "text/plain": [
       "126"
      ]
     },
     "execution_count": 4,
     "metadata": {},
     "output_type": "execute_result"
    }
   ],
   "source": [
    "len(feature_list)"
   ]
  },
  {
   "cell_type": "code",
   "execution_count": null,
   "metadata": {},
   "outputs": [],
   "source": [
    "def rdk_features(smi: str) -> list:\n",
    "    '''\n",
    "    Main featurization function\n",
    "    '''\n",
    "    mol = Chem.MolFromSmiles(smi)\n",
    "    bcut2d = _rdMolDescriptors.BCUT2D(mol) # rdkit.rdBase._vectd, len=8\n",
    "    chiNn = [_rdMolDescriptors.CalcChiNn(mol, i) for i in range(5)] # list, len=5\n",
    "    chiNv = [_rdMolDescriptors.CalcChiNv(mol, i) for i in range(5)] # list, len=5\n",
    "    mollogp, molmr = _rdMolDescriptors.CalcCrippenDescriptors(mol) # floats\n",
    "    molwt = _rdMolDescriptors.CalcExactMolWt(mol) # float\n",
    "    csp3 = _rdMolDescriptors.CalcFractionCSP3(mol) # float\n",
    "    hka = _rdMolDescriptors.CalcHallKierAlpha(mol) # float\n",
    "    kappa = [\n",
    "        _rdMolDescriptors.CalcKappa1(mol),\n",
    "        _rdMolDescriptors.CalcKappa2(mol),\n",
    "        _rdMolDescriptors.CalcKappa3(mol)\n",
    "    ] # list, len=3\n",
    "    labuteasa = _rdMolDescriptors.CalcLabuteASA(mol) # float\n",
    "    num_hetero_cycles = [\n",
    "        _rdMolDescriptors.CalcNumHeterocycles(mol),\n",
    "        _rdMolDescriptors.CalcNumAromaticHeterocycles(mol),\n",
    "        _rdMolDescriptors.CalcNumSaturatedHeterocycles(mol),\n",
    "        _rdMolDescriptors.CalcNumAliphaticHeterocycles(mol)\n",
    "    ] # list[int], [total, aromatic, saturated, aliphatic], len=4\n",
    "    num_carbo_cycles = [\n",
    "        _rdMolDescriptors.CalcNumAromaticCarbocycles(mol),\n",
    "        _rdMolDescriptors.CalcNumSaturatedCarbocycles(mol),\n",
    "        _rdMolDescriptors.CalcNumAliphaticCarbocycles(mol)\n",
    "    ] # list[int], [total, aromatic, saturated, aliphatic], len=3\n",
    "    num_rings = [\n",
    "        _rdMolDescriptors.CalcNumRings(mol),\n",
    "        _rdMolDescriptors.CalcNumAromaticRings(mol),\n",
    "        _rdMolDescriptors.CalcNumSaturatedRings(mol),\n",
    "        _rdMolDescriptors.CalcNumAliphaticRings(mol)\n",
    "    ] # list[int], [total, aromatic, saturated, aliphatic], len=4\n",
    "    num_stereo_centers = _rdMolDescriptors.CalcNumAtomStereoCenters(mol) # int\n",
    "    num_bridgehead_atoms = _rdMolDescriptors.CalcNumBridgeheadAtoms(mol) # int\n",
    "    num_hba = _rdMolDescriptors.CalcNumHBA(mol) # int\n",
    "    num_hbd = _rdMolDescriptors.CalcNumHBD(mol) # int\n",
    "    num_hetero_atom = _rdMolDescriptors.CalcNumHeteroatoms(mol) # int\n",
    "    num_lipinski_hba = _rdMolDescriptors.CalcNumLipinskiHBA(mol) # int\n",
    "    num_lipinski_hbd = _rdMolDescriptors.CalcNumLipinskiHBD(mol) # int\n",
    "    num_rot_bonds = _rdMolDescriptors.CalcNumRotatableBonds(mol) # int\n",
    "    num_spiro_atoms = _rdMolDescriptors.CalcNumSpiroAtoms(mol) # int\n",
    "    tpsa = _rdMolDescriptors.CalcTPSA(mol) # float\n",
    "    peoe_vsa = _rdMolDescriptors.PEOE_VSA_(mol) # list, len=14\n",
    "    smr_vsa = _rdMolDescriptors.SMR_VSA_(mol) # list, len=10\n",
    "    slogp_vsa = _rdMolDescriptors.SlogP_VSA_(mol) # list, len=12\n",
    "    mqn = _rdMolDescriptors.MQNs_(mol) # list, len=42\n",
    "\n",
    "    \n",
    "    feats = [ele for ele in bcut2d] +\\\n",
    "            chiNn +\\\n",
    "            chiNv +\\\n",
    "            [mollogp, molmr, molwt, csp3, hka] +\\\n",
    "            kappa +\\www\n",
    "            [labuteasa]+\\\n",
    "            num_hetero_cycles +\\\n",
    "            num_carbo_cycles +\\\n",
    "            num_rings +\\\n",
    "            [num_stereo_centers, num_bridgehead_atoms, num_hba, num_hbd] +\\\n",
    "            [num_hetero_atom, num_lipinski_hba, num_lipinski_hbd] +\\\n",
    "            [num_rot_bonds, num_spiro_atoms, tpsa]+\\\n",
    "            peoe_vsa +\\\n",
    "            smr_vsa +\\\n",
    "            slogp_vsa +\\\n",
    "            mqn\n",
    "            \n",
    "    return feats"
   ]
  }
 ],
 "metadata": {
  "kernelspec": {
   "display_name": "MRP7Pred",
   "language": "python",
   "name": "mrp7pred"
  },
  "language_info": {
   "codemirror_mode": {
    "name": "ipython",
    "version": 3
   },
   "file_extension": ".py",
   "mimetype": "text/x-python",
   "name": "python",
   "nbconvert_exporter": "python",
   "pygments_lexer": "ipython3",
   "version": "3.7.8"
  }
 },
 "nbformat": 4,
 "nbformat_minor": 4
}

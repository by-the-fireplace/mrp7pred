{
 "cells": [
  {
   "cell_type": "markdown",
   "metadata": {},
   "source": [
    "# Feature Engineering"
   ]
  },
  {
   "cell_type": "markdown",
   "metadata": {},
   "source": [
    "Featurization has finished. Featurized data was saved in `mrp7pred/feats/all_features_cc` (cancer cell paper data) and `mrp7pred/feats/all_features_man` (manually curated data). \n",
    "\n",
    "In this notebook we experimented on different feature selection strategies to determine a subset of features for further model training."
   ]
  },
  {
   "cell_type": "code",
   "execution_count": 13,
   "metadata": {},
   "outputs": [
    {
     "output_type": "stream",
     "name": "stdout",
     "text": [
      "The autoreload extension is already loaded. To reload it, use:\n  %reload_ext autoreload\n"
     ]
    }
   ],
   "source": [
    "# Autoreload modules\n",
    "%load_ext autoreload\n",
    "%autoreload 2\n",
    "\n",
    "# Disable warnings\n",
    "import warnings\n",
    "warnings.filterwarnings(\"ignore\")\n",
    "\n",
    "from pandas import DataFrame\n",
    "import pandas as pd\n",
    "import numpy as np\n",
    "from mrp7pred.feats.feature_selection import (\n",
    "    _remove_low_variance_features,\n",
    "    _remove_similar_features,\n",
    "    _univariate,\n",
    "    _from_model,\n",
    "    _rfecv\n",
    ")\n",
    "\n",
    "DATA_CC = \"../mrp7pred/feats/all_features_cc/full_features_828_20210105-194733.csv\"\n",
    "DATA_MAN = \"../mrp7pred/feats/all_features_man/full_features_828_20210105-013717.csv\""
   ]
  },
  {
   "cell_type": "markdown",
   "metadata": {},
   "source": [
    "## 1. Load Cancer Cell paper and manually curated data"
   ]
  },
  {
   "cell_type": "code",
   "execution_count": 42,
   "metadata": {},
   "outputs": [],
   "source": [
    "df_cc = pd.read_csv(DATA_CC, index_col=0)\n",
    "df_cc.dropna(inplace=True, axis=0)\n",
    "df_man = pd.read_csv(DATA_MAN, index_col=0)\n",
    "df_man.dropna(inplace=True, axis=0)"
   ]
  },
  {
   "source": [
    "df_cc.head()"
   ],
   "cell_type": "code",
   "metadata": {},
   "execution_count": 21,
   "outputs": [
    {
     "output_type": "execute_result",
     "data": {
      "text/plain": [
       "       name  label                                             smiles  \\\n",
       "0  Citriain      1  C=CCc1cc(-c2cc(CC=C)c(O)c(CN(CCCl)CCCl)c2)cc(C...   \n",
       "2       AZS      0                                    Oc1ncc(F)c(O)n1   \n",
       "3     GT 41      0  Nc1nc(O)c2ncn([C@@H]3O[C@@H](CO)[C@H](O)[C@@H]...   \n",
       "4        TG      0             CCN(CCO)CCNc1ccc(C)c2sc3ccccc3c(=O)c12   \n",
       "5        MP      0  COc1cc2c(cc1Oc1c(Oc3c(O)c(OC)cc4c3[C@@H](CC(C)...   \n",
       "\n",
       "   FractionCSP3  HeavyAtomCount  HeavyAtomMolWt  NHOHCount  NOCount  \\\n",
       "0      0.428571            36.0         538.132        2.0      4.0   \n",
       "2      0.000000             9.0         127.054        2.0      4.0   \n",
       "3      0.500000            20.0         270.140        6.0     10.0   \n",
       "4      0.350000            25.0         332.299        2.0      4.0   \n",
       "5      0.600000            54.0         678.510        1.0      9.0   \n",
       "\n",
       "   RingCount  NumAliphaticCarbocycles  ...  ATSe7  ATSe8  ATSp1  ATSp2  ATSp3  \\\n",
       "0        2.0                      0.0  ...  4.264  4.176  3.573  3.818  3.917   \n",
       "2        1.0                      0.0  ...  0.000  0.000  1.906  2.026  1.725   \n",
       "3        3.0                      0.0  ...  3.100  2.497  2.771  3.107  3.030   \n",
       "4        3.0                      0.0  ...  3.281  3.217  3.271  3.603  3.744   \n",
       "5        6.0                      0.0  ...  5.007  5.043  3.924  4.329  4.464   \n",
       "\n",
       "   ATSp4  ATSp5  ATSp6  ATSp7  ATSp8  \n",
       "0  4.057  4.099  4.149  4.090  4.031  \n",
       "2  0.817  0.135  0.000  0.000  0.000  \n",
       "3  2.924  2.744  2.531  2.210  1.479  \n",
       "4  3.561  3.359  3.239  3.120  3.044  \n",
       "5  4.503  4.640  4.637  4.667  4.760  \n",
       "\n",
       "[5 rows x 825 columns]"
      ],
      "text/html": "<div>\n<style scoped>\n    .dataframe tbody tr th:only-of-type {\n        vertical-align: middle;\n    }\n\n    .dataframe tbody tr th {\n        vertical-align: top;\n    }\n\n    .dataframe thead th {\n        text-align: right;\n    }\n</style>\n<table border=\"1\" class=\"dataframe\">\n  <thead>\n    <tr style=\"text-align: right;\">\n      <th></th>\n      <th>name</th>\n      <th>label</th>\n      <th>smiles</th>\n      <th>FractionCSP3</th>\n      <th>HeavyAtomCount</th>\n      <th>HeavyAtomMolWt</th>\n      <th>NHOHCount</th>\n      <th>NOCount</th>\n      <th>RingCount</th>\n      <th>NumAliphaticCarbocycles</th>\n      <th>...</th>\n      <th>ATSe7</th>\n      <th>ATSe8</th>\n      <th>ATSp1</th>\n      <th>ATSp2</th>\n      <th>ATSp3</th>\n      <th>ATSp4</th>\n      <th>ATSp5</th>\n      <th>ATSp6</th>\n      <th>ATSp7</th>\n      <th>ATSp8</th>\n    </tr>\n  </thead>\n  <tbody>\n    <tr>\n      <th>0</th>\n      <td>Citriain</td>\n      <td>1</td>\n      <td>C=CCc1cc(-c2cc(CC=C)c(O)c(CN(CCCl)CCCl)c2)cc(C...</td>\n      <td>0.428571</td>\n      <td>36.0</td>\n      <td>538.132</td>\n      <td>2.0</td>\n      <td>4.0</td>\n      <td>2.0</td>\n      <td>0.0</td>\n      <td>...</td>\n      <td>4.264</td>\n      <td>4.176</td>\n      <td>3.573</td>\n      <td>3.818</td>\n      <td>3.917</td>\n      <td>4.057</td>\n      <td>4.099</td>\n      <td>4.149</td>\n      <td>4.090</td>\n      <td>4.031</td>\n    </tr>\n    <tr>\n      <th>2</th>\n      <td>AZS</td>\n      <td>0</td>\n      <td>Oc1ncc(F)c(O)n1</td>\n      <td>0.000000</td>\n      <td>9.0</td>\n      <td>127.054</td>\n      <td>2.0</td>\n      <td>4.0</td>\n      <td>1.0</td>\n      <td>0.0</td>\n      <td>...</td>\n      <td>0.000</td>\n      <td>0.000</td>\n      <td>1.906</td>\n      <td>2.026</td>\n      <td>1.725</td>\n      <td>0.817</td>\n      <td>0.135</td>\n      <td>0.000</td>\n      <td>0.000</td>\n      <td>0.000</td>\n    </tr>\n    <tr>\n      <th>3</th>\n      <td>GT 41</td>\n      <td>0</td>\n      <td>Nc1nc(O)c2ncn([C@@H]3O[C@@H](CO)[C@H](O)[C@@H]...</td>\n      <td>0.500000</td>\n      <td>20.0</td>\n      <td>270.140</td>\n      <td>6.0</td>\n      <td>10.0</td>\n      <td>3.0</td>\n      <td>0.0</td>\n      <td>...</td>\n      <td>3.100</td>\n      <td>2.497</td>\n      <td>2.771</td>\n      <td>3.107</td>\n      <td>3.030</td>\n      <td>2.924</td>\n      <td>2.744</td>\n      <td>2.531</td>\n      <td>2.210</td>\n      <td>1.479</td>\n    </tr>\n    <tr>\n      <th>4</th>\n      <td>TG</td>\n      <td>0</td>\n      <td>CCN(CCO)CCNc1ccc(C)c2sc3ccccc3c(=O)c12</td>\n      <td>0.350000</td>\n      <td>25.0</td>\n      <td>332.299</td>\n      <td>2.0</td>\n      <td>4.0</td>\n      <td>3.0</td>\n      <td>0.0</td>\n      <td>...</td>\n      <td>3.281</td>\n      <td>3.217</td>\n      <td>3.271</td>\n      <td>3.603</td>\n      <td>3.744</td>\n      <td>3.561</td>\n      <td>3.359</td>\n      <td>3.239</td>\n      <td>3.120</td>\n      <td>3.044</td>\n    </tr>\n    <tr>\n      <th>5</th>\n      <td>MP</td>\n      <td>0</td>\n      <td>COc1cc2c(cc1Oc1c(Oc3c(O)c(OC)cc4c3[C@@H](CC(C)...</td>\n      <td>0.600000</td>\n      <td>54.0</td>\n      <td>678.510</td>\n      <td>1.0</td>\n      <td>9.0</td>\n      <td>6.0</td>\n      <td>0.0</td>\n      <td>...</td>\n      <td>5.007</td>\n      <td>5.043</td>\n      <td>3.924</td>\n      <td>4.329</td>\n      <td>4.464</td>\n      <td>4.503</td>\n      <td>4.640</td>\n      <td>4.637</td>\n      <td>4.667</td>\n      <td>4.760</td>\n    </tr>\n  </tbody>\n</table>\n<p>5 rows × 825 columns</p>\n</div>"
     },
     "metadata": {},
     "execution_count": 21
    }
   ]
  },
  {
   "cell_type": "code",
   "execution_count": 22,
   "metadata": {},
   "outputs": [
    {
     "output_type": "execute_result",
     "data": {
      "text/plain": [
       "          name  label                                             smiles  \\\n",
       "0   paclitaxel      1  CC(=O)OC1C(=O)C2(C)C(O)CC3OCC3(OC(C)=O)C2C(OC(...   \n",
       "1  vincristine      1  CCC1(O)CC2CN(CCc3c([nH]c4ccccc34)C(C(=O)OC)(c3...   \n",
       "2         LTC4      1  CCCCCC=CCC=CC=CC=CC(SCC(NC(=O)CCC(N)C(=O)O)C(=...   \n",
       "3       E217bG      1  CC12CCC3c4ccc(O)cc4CCC3C1CCC2OC1OC(C(=O)O)C(O)...   \n",
       "4  gemcitabine      1                  Nc1ccn(C2OC(CO)C(O)C2(F)F)c(=O)n1   \n",
       "\n",
       "   rdk_FractionCSP3  rdk_HeavyAtomCount  rdk_HeavyAtomMolWt  rdk_NHOHCount  \\\n",
       "0          0.446809                62.0             802.510            4.0   \n",
       "1          0.565217                60.0             768.524            3.0   \n",
       "2          0.566667                43.0             578.409            8.0   \n",
       "3          0.708333                32.0             416.256            5.0   \n",
       "4          0.555556                18.0             252.112            4.0   \n",
       "\n",
       "   rdk_NOCount  rdk_RingCount  rdk_NumAliphaticCarbocycles  ...  pychem_ATSe7  \\\n",
       "0         15.0            7.0                          3.0  ...         5.327   \n",
       "1         14.0            9.0                          1.0  ...         5.285   \n",
       "2         12.0            0.0                          0.0  ...         4.247   \n",
       "3          8.0            5.0                          3.0  ...         3.890   \n",
       "4          7.0            2.0                          0.0  ...         2.614   \n",
       "\n",
       "   pychem_ATSe8  pychem_ATSp1  pychem_ATSp2  pychem_ATSp3  pychem_ATSp4  \\\n",
       "0         5.184         4.058         4.421         4.610         4.691   \n",
       "1         5.159         4.047         4.528         4.759         4.967   \n",
       "2         4.316         3.625         3.715         3.760         3.789   \n",
       "3         3.811         3.451         3.843         3.915         3.791   \n",
       "4         1.615         2.614         2.903         2.835         2.645   \n",
       "\n",
       "   pychem_ATSp5  pychem_ATSp6  pychem_ATSp7  pychem_ATSp8  \n",
       "0         4.805         4.894         4.829         4.748  \n",
       "1         4.988         4.985         4.913         4.799  \n",
       "2         3.831         3.863         3.902         3.888  \n",
       "3         3.648         3.590         3.502         3.258  \n",
       "4         2.489         2.138         1.619         0.860  \n",
       "\n",
       "[5 rows x 831 columns]"
      ],
      "text/html": "<div>\n<style scoped>\n    .dataframe tbody tr th:only-of-type {\n        vertical-align: middle;\n    }\n\n    .dataframe tbody tr th {\n        vertical-align: top;\n    }\n\n    .dataframe thead th {\n        text-align: right;\n    }\n</style>\n<table border=\"1\" class=\"dataframe\">\n  <thead>\n    <tr style=\"text-align: right;\">\n      <th></th>\n      <th>name</th>\n      <th>label</th>\n      <th>smiles</th>\n      <th>rdk_FractionCSP3</th>\n      <th>rdk_HeavyAtomCount</th>\n      <th>rdk_HeavyAtomMolWt</th>\n      <th>rdk_NHOHCount</th>\n      <th>rdk_NOCount</th>\n      <th>rdk_RingCount</th>\n      <th>rdk_NumAliphaticCarbocycles</th>\n      <th>...</th>\n      <th>pychem_ATSe7</th>\n      <th>pychem_ATSe8</th>\n      <th>pychem_ATSp1</th>\n      <th>pychem_ATSp2</th>\n      <th>pychem_ATSp3</th>\n      <th>pychem_ATSp4</th>\n      <th>pychem_ATSp5</th>\n      <th>pychem_ATSp6</th>\n      <th>pychem_ATSp7</th>\n      <th>pychem_ATSp8</th>\n    </tr>\n  </thead>\n  <tbody>\n    <tr>\n      <th>0</th>\n      <td>paclitaxel</td>\n      <td>1</td>\n      <td>CC(=O)OC1C(=O)C2(C)C(O)CC3OCC3(OC(C)=O)C2C(OC(...</td>\n      <td>0.446809</td>\n      <td>62.0</td>\n      <td>802.510</td>\n      <td>4.0</td>\n      <td>15.0</td>\n      <td>7.0</td>\n      <td>3.0</td>\n      <td>...</td>\n      <td>5.327</td>\n      <td>5.184</td>\n      <td>4.058</td>\n      <td>4.421</td>\n      <td>4.610</td>\n      <td>4.691</td>\n      <td>4.805</td>\n      <td>4.894</td>\n      <td>4.829</td>\n      <td>4.748</td>\n    </tr>\n    <tr>\n      <th>1</th>\n      <td>vincristine</td>\n      <td>1</td>\n      <td>CCC1(O)CC2CN(CCc3c([nH]c4ccccc34)C(C(=O)OC)(c3...</td>\n      <td>0.565217</td>\n      <td>60.0</td>\n      <td>768.524</td>\n      <td>3.0</td>\n      <td>14.0</td>\n      <td>9.0</td>\n      <td>1.0</td>\n      <td>...</td>\n      <td>5.285</td>\n      <td>5.159</td>\n      <td>4.047</td>\n      <td>4.528</td>\n      <td>4.759</td>\n      <td>4.967</td>\n      <td>4.988</td>\n      <td>4.985</td>\n      <td>4.913</td>\n      <td>4.799</td>\n    </tr>\n    <tr>\n      <th>2</th>\n      <td>LTC4</td>\n      <td>1</td>\n      <td>CCCCCC=CCC=CC=CC=CC(SCC(NC(=O)CCC(N)C(=O)O)C(=...</td>\n      <td>0.566667</td>\n      <td>43.0</td>\n      <td>578.409</td>\n      <td>8.0</td>\n      <td>12.0</td>\n      <td>0.0</td>\n      <td>0.0</td>\n      <td>...</td>\n      <td>4.247</td>\n      <td>4.316</td>\n      <td>3.625</td>\n      <td>3.715</td>\n      <td>3.760</td>\n      <td>3.789</td>\n      <td>3.831</td>\n      <td>3.863</td>\n      <td>3.902</td>\n      <td>3.888</td>\n    </tr>\n    <tr>\n      <th>3</th>\n      <td>E217bG</td>\n      <td>1</td>\n      <td>CC12CCC3c4ccc(O)cc4CCC3C1CCC2OC1OC(C(=O)O)C(O)...</td>\n      <td>0.708333</td>\n      <td>32.0</td>\n      <td>416.256</td>\n      <td>5.0</td>\n      <td>8.0</td>\n      <td>5.0</td>\n      <td>3.0</td>\n      <td>...</td>\n      <td>3.890</td>\n      <td>3.811</td>\n      <td>3.451</td>\n      <td>3.843</td>\n      <td>3.915</td>\n      <td>3.791</td>\n      <td>3.648</td>\n      <td>3.590</td>\n      <td>3.502</td>\n      <td>3.258</td>\n    </tr>\n    <tr>\n      <th>4</th>\n      <td>gemcitabine</td>\n      <td>1</td>\n      <td>Nc1ccn(C2OC(CO)C(O)C2(F)F)c(=O)n1</td>\n      <td>0.555556</td>\n      <td>18.0</td>\n      <td>252.112</td>\n      <td>4.0</td>\n      <td>7.0</td>\n      <td>2.0</td>\n      <td>0.0</td>\n      <td>...</td>\n      <td>2.614</td>\n      <td>1.615</td>\n      <td>2.614</td>\n      <td>2.903</td>\n      <td>2.835</td>\n      <td>2.645</td>\n      <td>2.489</td>\n      <td>2.138</td>\n      <td>1.619</td>\n      <td>0.860</td>\n    </tr>\n  </tbody>\n</table>\n<p>5 rows × 831 columns</p>\n</div>"
     },
     "metadata": {},
     "execution_count": 22
    }
   ],
   "source": [
    "df_man.head()"
   ]
  },
  {
   "cell_type": "code",
   "execution_count": 19,
   "metadata": {},
   "outputs": [
    {
     "output_type": "execute_result",
     "data": {
      "text/plain": [
       "((1115, 825), (117, 831))"
      ]
     },
     "metadata": {},
     "execution_count": 19
    }
   ],
   "source": [
    "df_cc.shape, df_man.shape"
   ]
  },
  {
   "cell_type": "code",
   "execution_count": 43,
   "metadata": {},
   "outputs": [
    {
     "output_type": "stream",
     "name": "stdout",
     "text": [
      "822 822\n"
     ]
    },
    {
     "output_type": "execute_result",
     "data": {
      "text/plain": [
       "(set(), set())"
      ]
     },
     "metadata": {},
     "execution_count": 43
    }
   ],
   "source": [
    "df_man_feats_l = [col[col.find(\"_\")+1:] for col in df_man.columns.values.tolist() if \"_\" in col]\n",
    "both = set(df_man_feats_l) & set(df_cc.columns.values.tolist())\n",
    "only_in_cc = set(df_cc.columns[3:].values.tolist()) - both\n",
    "only_in_man = set(df_man_feats_l) - both\n",
    "print(len(set(df_cc.columns[3:].values.tolist())), len(set(df_man_feats_l)))\n",
    "only_in_cc, only_in_man"
   ]
  },
  {
   "source": [
    "`df_cc` has 825 columns, while `df_man` has 831 columns. Since feature names of `df_cc` do not have prefix, thus it's possible that there are duplicated features in `df_man` if all prefixes are removed.\n",
    "\n",
    "Yes it is. Both datasets have 822 unique faetures"
   ],
   "cell_type": "markdown",
   "metadata": {}
  },
  {
   "source": [
    "#### Remove duplicated features in `df_man`"
   ],
   "cell_type": "markdown",
   "metadata": {}
  },
  {
   "cell_type": "code",
   "execution_count": 50,
   "metadata": {},
   "outputs": [
    {
     "output_type": "execute_result",
     "data": {
      "text/plain": [
       "          name  label                                             smiles  \\\n",
       "0   paclitaxel      1  CC(=O)OC1C(=O)C2(C)C(O)CC3OCC3(OC(C)=O)C2C(OC(...   \n",
       "1  vincristine      1  CCC1(O)CC2CN(CCc3c([nH]c4ccccc34)C(C(=O)OC)(c3...   \n",
       "2         LTC4      1  CCCCCC=CCC=CC=CC=CC(SCC(NC(=O)CCC(N)C(=O)O)C(=...   \n",
       "3       E217bG      1  CC12CCC3c4ccc(O)cc4CCC3C1CCC2OC1OC(C(=O)O)C(O)...   \n",
       "4  gemcitabine      1                  Nc1ccn(C2OC(CO)C(O)C2(F)F)c(=O)n1   \n",
       "\n",
       "   FractionCSP3  HeavyAtomCount  HeavyAtomMolWt  NHOHCount  NOCount  \\\n",
       "0      0.446809            62.0         802.510        4.0     15.0   \n",
       "1      0.565217            60.0         768.524        3.0     14.0   \n",
       "2      0.566667            43.0         578.409        8.0     12.0   \n",
       "3      0.708333            32.0         416.256        5.0      8.0   \n",
       "4      0.555556            18.0         252.112        4.0      7.0   \n",
       "\n",
       "   RingCount  NumAliphaticCarbocycles  ...  ATSe7  ATSe8  ATSp1  ATSp2  ATSp3  \\\n",
       "0        7.0                      3.0  ...  5.327  5.184  4.058  4.421  4.610   \n",
       "1        9.0                      1.0  ...  5.285  5.159  4.047  4.528  4.759   \n",
       "2        0.0                      0.0  ...  4.247  4.316  3.625  3.715  3.760   \n",
       "3        5.0                      3.0  ...  3.890  3.811  3.451  3.843  3.915   \n",
       "4        2.0                      0.0  ...  2.614  1.615  2.614  2.903  2.835   \n",
       "\n",
       "   ATSp4  ATSp5  ATSp6  ATSp7  ATSp8  \n",
       "0  4.691  4.805  4.894  4.829  4.748  \n",
       "1  4.967  4.988  4.985  4.913  4.799  \n",
       "2  3.789  3.831  3.863  3.902  3.888  \n",
       "3  3.791  3.648  3.590  3.502  3.258  \n",
       "4  2.645  2.489  2.138  1.619  0.860  \n",
       "\n",
       "[5 rows x 831 columns]"
      ],
      "text/html": "<div>\n<style scoped>\n    .dataframe tbody tr th:only-of-type {\n        vertical-align: middle;\n    }\n\n    .dataframe tbody tr th {\n        vertical-align: top;\n    }\n\n    .dataframe thead th {\n        text-align: right;\n    }\n</style>\n<table border=\"1\" class=\"dataframe\">\n  <thead>\n    <tr style=\"text-align: right;\">\n      <th></th>\n      <th>name</th>\n      <th>label</th>\n      <th>smiles</th>\n      <th>FractionCSP3</th>\n      <th>HeavyAtomCount</th>\n      <th>HeavyAtomMolWt</th>\n      <th>NHOHCount</th>\n      <th>NOCount</th>\n      <th>RingCount</th>\n      <th>NumAliphaticCarbocycles</th>\n      <th>...</th>\n      <th>ATSe7</th>\n      <th>ATSe8</th>\n      <th>ATSp1</th>\n      <th>ATSp2</th>\n      <th>ATSp3</th>\n      <th>ATSp4</th>\n      <th>ATSp5</th>\n      <th>ATSp6</th>\n      <th>ATSp7</th>\n      <th>ATSp8</th>\n    </tr>\n  </thead>\n  <tbody>\n    <tr>\n      <th>0</th>\n      <td>paclitaxel</td>\n      <td>1</td>\n      <td>CC(=O)OC1C(=O)C2(C)C(O)CC3OCC3(OC(C)=O)C2C(OC(...</td>\n      <td>0.446809</td>\n      <td>62.0</td>\n      <td>802.510</td>\n      <td>4.0</td>\n      <td>15.0</td>\n      <td>7.0</td>\n      <td>3.0</td>\n      <td>...</td>\n      <td>5.327</td>\n      <td>5.184</td>\n      <td>4.058</td>\n      <td>4.421</td>\n      <td>4.610</td>\n      <td>4.691</td>\n      <td>4.805</td>\n      <td>4.894</td>\n      <td>4.829</td>\n      <td>4.748</td>\n    </tr>\n    <tr>\n      <th>1</th>\n      <td>vincristine</td>\n      <td>1</td>\n      <td>CCC1(O)CC2CN(CCc3c([nH]c4ccccc34)C(C(=O)OC)(c3...</td>\n      <td>0.565217</td>\n      <td>60.0</td>\n      <td>768.524</td>\n      <td>3.0</td>\n      <td>14.0</td>\n      <td>9.0</td>\n      <td>1.0</td>\n      <td>...</td>\n      <td>5.285</td>\n      <td>5.159</td>\n      <td>4.047</td>\n      <td>4.528</td>\n      <td>4.759</td>\n      <td>4.967</td>\n      <td>4.988</td>\n      <td>4.985</td>\n      <td>4.913</td>\n      <td>4.799</td>\n    </tr>\n    <tr>\n      <th>2</th>\n      <td>LTC4</td>\n      <td>1</td>\n      <td>CCCCCC=CCC=CC=CC=CC(SCC(NC(=O)CCC(N)C(=O)O)C(=...</td>\n      <td>0.566667</td>\n      <td>43.0</td>\n      <td>578.409</td>\n      <td>8.0</td>\n      <td>12.0</td>\n      <td>0.0</td>\n      <td>0.0</td>\n      <td>...</td>\n      <td>4.247</td>\n      <td>4.316</td>\n      <td>3.625</td>\n      <td>3.715</td>\n      <td>3.760</td>\n      <td>3.789</td>\n      <td>3.831</td>\n      <td>3.863</td>\n      <td>3.902</td>\n      <td>3.888</td>\n    </tr>\n    <tr>\n      <th>3</th>\n      <td>E217bG</td>\n      <td>1</td>\n      <td>CC12CCC3c4ccc(O)cc4CCC3C1CCC2OC1OC(C(=O)O)C(O)...</td>\n      <td>0.708333</td>\n      <td>32.0</td>\n      <td>416.256</td>\n      <td>5.0</td>\n      <td>8.0</td>\n      <td>5.0</td>\n      <td>3.0</td>\n      <td>...</td>\n      <td>3.890</td>\n      <td>3.811</td>\n      <td>3.451</td>\n      <td>3.843</td>\n      <td>3.915</td>\n      <td>3.791</td>\n      <td>3.648</td>\n      <td>3.590</td>\n      <td>3.502</td>\n      <td>3.258</td>\n    </tr>\n    <tr>\n      <th>4</th>\n      <td>gemcitabine</td>\n      <td>1</td>\n      <td>Nc1ccn(C2OC(CO)C(O)C2(F)F)c(=O)n1</td>\n      <td>0.555556</td>\n      <td>18.0</td>\n      <td>252.112</td>\n      <td>4.0</td>\n      <td>7.0</td>\n      <td>2.0</td>\n      <td>0.0</td>\n      <td>...</td>\n      <td>2.614</td>\n      <td>1.615</td>\n      <td>2.614</td>\n      <td>2.903</td>\n      <td>2.835</td>\n      <td>2.645</td>\n      <td>2.489</td>\n      <td>2.138</td>\n      <td>1.619</td>\n      <td>0.860</td>\n    </tr>\n  </tbody>\n</table>\n<p>5 rows × 831 columns</p>\n</div>"
     },
     "metadata": {},
     "execution_count": 50
    }
   ],
   "source": [
    "df_man_renamed = df_man.rename(columns=lambda x: x[x.find(\"_\")+1:] if \"_\" in x else x)\n",
    "df_man_renamed.head()"
   ]
  },
  {
   "cell_type": "code",
   "execution_count": 54,
   "metadata": {},
   "outputs": [
    {
     "output_type": "execute_result",
     "data": {
      "text/plain": [
       "          name  label                                             smiles  \\\n",
       "0   paclitaxel      1  CC(=O)OC1C(=O)C2(C)C(O)CC3OCC3(OC(C)=O)C2C(OC(...   \n",
       "1  vincristine      1  CCC1(O)CC2CN(CCc3c([nH]c4ccccc34)C(C(=O)OC)(c3...   \n",
       "2         LTC4      1  CCCCCC=CCC=CC=CC=CC(SCC(NC(=O)CCC(N)C(=O)O)C(=...   \n",
       "3       E217bG      1  CC12CCC3c4ccc(O)cc4CCC3C1CCC2OC1OC(C(=O)O)C(O)...   \n",
       "4  gemcitabine      1                  Nc1ccn(C2OC(CO)C(O)C2(F)F)c(=O)n1   \n",
       "\n",
       "   FractionCSP3  HeavyAtomCount  HeavyAtomMolWt  NHOHCount  NOCount  \\\n",
       "0      0.446809            62.0         802.510        4.0     15.0   \n",
       "1      0.565217            60.0         768.524        3.0     14.0   \n",
       "2      0.566667            43.0         578.409        8.0     12.0   \n",
       "3      0.708333            32.0         416.256        5.0      8.0   \n",
       "4      0.555556            18.0         252.112        4.0      7.0   \n",
       "\n",
       "   RingCount  NumAliphaticCarbocycles  ...  ATSe7  ATSe8  ATSp1  ATSp2  ATSp3  \\\n",
       "0        7.0                      3.0  ...  5.327  5.184  4.058  4.421  4.610   \n",
       "1        9.0                      1.0  ...  5.285  5.159  4.047  4.528  4.759   \n",
       "2        0.0                      0.0  ...  4.247  4.316  3.625  3.715  3.760   \n",
       "3        5.0                      3.0  ...  3.890  3.811  3.451  3.843  3.915   \n",
       "4        2.0                      0.0  ...  2.614  1.615  2.614  2.903  2.835   \n",
       "\n",
       "   ATSp4  ATSp5  ATSp6  ATSp7  ATSp8  \n",
       "0  4.691  4.805  4.894  4.829  4.748  \n",
       "1  4.967  4.988  4.985  4.913  4.799  \n",
       "2  3.789  3.831  3.863  3.902  3.888  \n",
       "3  3.791  3.648  3.590  3.502  3.258  \n",
       "4  2.645  2.489  2.138  1.619  0.860  \n",
       "\n",
       "[5 rows x 825 columns]"
      ],
      "text/html": "<div>\n<style scoped>\n    .dataframe tbody tr th:only-of-type {\n        vertical-align: middle;\n    }\n\n    .dataframe tbody tr th {\n        vertical-align: top;\n    }\n\n    .dataframe thead th {\n        text-align: right;\n    }\n</style>\n<table border=\"1\" class=\"dataframe\">\n  <thead>\n    <tr style=\"text-align: right;\">\n      <th></th>\n      <th>name</th>\n      <th>label</th>\n      <th>smiles</th>\n      <th>FractionCSP3</th>\n      <th>HeavyAtomCount</th>\n      <th>HeavyAtomMolWt</th>\n      <th>NHOHCount</th>\n      <th>NOCount</th>\n      <th>RingCount</th>\n      <th>NumAliphaticCarbocycles</th>\n      <th>...</th>\n      <th>ATSe7</th>\n      <th>ATSe8</th>\n      <th>ATSp1</th>\n      <th>ATSp2</th>\n      <th>ATSp3</th>\n      <th>ATSp4</th>\n      <th>ATSp5</th>\n      <th>ATSp6</th>\n      <th>ATSp7</th>\n      <th>ATSp8</th>\n    </tr>\n  </thead>\n  <tbody>\n    <tr>\n      <th>0</th>\n      <td>paclitaxel</td>\n      <td>1</td>\n      <td>CC(=O)OC1C(=O)C2(C)C(O)CC3OCC3(OC(C)=O)C2C(OC(...</td>\n      <td>0.446809</td>\n      <td>62.0</td>\n      <td>802.510</td>\n      <td>4.0</td>\n      <td>15.0</td>\n      <td>7.0</td>\n      <td>3.0</td>\n      <td>...</td>\n      <td>5.327</td>\n      <td>5.184</td>\n      <td>4.058</td>\n      <td>4.421</td>\n      <td>4.610</td>\n      <td>4.691</td>\n      <td>4.805</td>\n      <td>4.894</td>\n      <td>4.829</td>\n      <td>4.748</td>\n    </tr>\n    <tr>\n      <th>1</th>\n      <td>vincristine</td>\n      <td>1</td>\n      <td>CCC1(O)CC2CN(CCc3c([nH]c4ccccc34)C(C(=O)OC)(c3...</td>\n      <td>0.565217</td>\n      <td>60.0</td>\n      <td>768.524</td>\n      <td>3.0</td>\n      <td>14.0</td>\n      <td>9.0</td>\n      <td>1.0</td>\n      <td>...</td>\n      <td>5.285</td>\n      <td>5.159</td>\n      <td>4.047</td>\n      <td>4.528</td>\n      <td>4.759</td>\n      <td>4.967</td>\n      <td>4.988</td>\n      <td>4.985</td>\n      <td>4.913</td>\n      <td>4.799</td>\n    </tr>\n    <tr>\n      <th>2</th>\n      <td>LTC4</td>\n      <td>1</td>\n      <td>CCCCCC=CCC=CC=CC=CC(SCC(NC(=O)CCC(N)C(=O)O)C(=...</td>\n      <td>0.566667</td>\n      <td>43.0</td>\n      <td>578.409</td>\n      <td>8.0</td>\n      <td>12.0</td>\n      <td>0.0</td>\n      <td>0.0</td>\n      <td>...</td>\n      <td>4.247</td>\n      <td>4.316</td>\n      <td>3.625</td>\n      <td>3.715</td>\n      <td>3.760</td>\n      <td>3.789</td>\n      <td>3.831</td>\n      <td>3.863</td>\n      <td>3.902</td>\n      <td>3.888</td>\n    </tr>\n    <tr>\n      <th>3</th>\n      <td>E217bG</td>\n      <td>1</td>\n      <td>CC12CCC3c4ccc(O)cc4CCC3C1CCC2OC1OC(C(=O)O)C(O)...</td>\n      <td>0.708333</td>\n      <td>32.0</td>\n      <td>416.256</td>\n      <td>5.0</td>\n      <td>8.0</td>\n      <td>5.0</td>\n      <td>3.0</td>\n      <td>...</td>\n      <td>3.890</td>\n      <td>3.811</td>\n      <td>3.451</td>\n      <td>3.843</td>\n      <td>3.915</td>\n      <td>3.791</td>\n      <td>3.648</td>\n      <td>3.590</td>\n      <td>3.502</td>\n      <td>3.258</td>\n    </tr>\n    <tr>\n      <th>4</th>\n      <td>gemcitabine</td>\n      <td>1</td>\n      <td>Nc1ccn(C2OC(CO)C(O)C2(F)F)c(=O)n1</td>\n      <td>0.555556</td>\n      <td>18.0</td>\n      <td>252.112</td>\n      <td>4.0</td>\n      <td>7.0</td>\n      <td>2.0</td>\n      <td>0.0</td>\n      <td>...</td>\n      <td>2.614</td>\n      <td>1.615</td>\n      <td>2.614</td>\n      <td>2.903</td>\n      <td>2.835</td>\n      <td>2.645</td>\n      <td>2.489</td>\n      <td>2.138</td>\n      <td>1.619</td>\n      <td>0.860</td>\n    </tr>\n  </tbody>\n</table>\n<p>5 rows × 825 columns</p>\n</div>"
     },
     "metadata": {},
     "execution_count": 54
    }
   ],
   "source": [
    "df_man_unique = df_man_renamed.loc[:,~df_man_renamed.columns.duplicated()]\n",
    "df_man_unique.head()"
   ]
  },
  {
   "cell_type": "code",
   "execution_count": 56,
   "metadata": {},
   "outputs": [
    {
     "output_type": "execute_result",
     "data": {
      "text/plain": [
       "True"
      ]
     },
     "metadata": {},
     "execution_count": 56
    }
   ],
   "source": [
    "all(df_man_unique.columns == df_cc.columns)"
   ]
  },
  {
   "cell_type": "code",
   "execution_count": 58,
   "metadata": {},
   "outputs": [
    {
     "output_type": "stream",
     "name": "stdout",
     "text": [
      "(1232, 825)\n"
     ]
    },
    {
     "output_type": "execute_result",
     "data": {
      "text/plain": [
       "                                                   name  label  \\\n",
       "73                                        Sipholenone E      0   \n",
       "463                                          SIOMYCIN A      0   \n",
       "1013  3,17-dihydroxy-2-(2,2,2-trifluoroethoxy)estra-...      0   \n",
       "902   (4-(1,3-dihydro-2H-pyrrolo[3,4-b]quinolin-2-yl...      0   \n",
       "819                14-Chloro-20(S)-camptothecin hydrate      0   \n",
       "1217  5-(4-((4-chlorophenyl)thio)-2-pentenyl)-6-meth...      0   \n",
       "706   2-(4-((4-(dimethylamino)phenyl)imino)-1(4H)-na...      0   \n",
       "436                   RESIBUFOGENIN, METHACRYLATE DERIV      0   \n",
       "881   1-chloro-2-(2-chloroethyl)-3-methylpyrido[1,2-...      0   \n",
       "1062  3-(4-(2-((tert-butyl(dimethyl)silyl)oxy)-4-oxo...      0   \n",
       "\n",
       "                                                 smiles  FractionCSP3  \\\n",
       "73    C[C@@H]1CC[C@H]2[C@@H](/C1=C/C[C@@H]1[C@@](C)(...      0.900000   \n",
       "463   C=C(NC(=O)C(=C)NC(=O)c1csc(C2=N[C@@H]3c4csc(n4...      0.394366   \n",
       "1013  C[C@@]12CC[C@@H]3c4cc(OCC(F)(F)F)c(O)cc4/C(=N/...      0.650000   \n",
       "902   CC(C)(C)C(=O)OC[C@H]1C(=O)OC[C@H]1C(=O)N1Cc2cc...      0.454545   \n",
       "819   CC[C@@]1(O)C(=O)OCc2c1c(Cl)c1n(c2=O)Cc2cc3cccc...      0.250000   \n",
       "1217            Cc1nnc(N)nc1C/C=C/[C@H](C)Sc1ccc(Cl)cc1      0.266667   \n",
       "706        CN(C)c1ccc(N=C2C=CC(=C(C#N)C#N)c3ccccc32)cc1      0.095238   \n",
       "436   C=C(C)C(=O)O[C@@H]1CC[C@@]2(C)[C@@H](CC[C@H]3[...      0.714286   \n",
       "881                 Cc1c(CCCl)c(Cl)n2c(nc3ccccc32)c1C#N      0.200000   \n",
       "1062  CC(C)[C@@H]1CCC(=O)C[C@H]1CCCC[C@H]1CC(=O)C[C@...      0.916667   \n",
       "\n",
       "      HeavyAtomCount  HeavyAtomMolWt  NHOHCount  NOCount  RingCount  \\\n",
       "73              34.0         424.326        2.0      4.0        4.0   \n",
       "463            113.0        1567.231       18.0     37.0       10.0   \n",
       "1013            28.0         375.217        3.0      5.0        4.0   \n",
       "902             29.0         372.251        0.0      7.0        4.0   \n",
       "819             27.0         367.683        1.0      6.0        5.0   \n",
       "1217            21.0         303.713        2.0      4.0        2.0   \n",
       "706             25.0         308.259        0.0      4.0        3.0   \n",
       "436             33.0         416.303        0.0      5.0        6.0   \n",
       "881             20.0         293.092        0.0      3.0        3.0   \n",
       "1062            28.0         364.347        0.0      3.0        2.0   \n",
       "\n",
       "      NumAliphaticCarbocycles  ...  ATSe7  ATSe8  ATSp1  ATSp2  ATSp3  ATSp4  \\\n",
       "73                        3.0  ...  4.084  4.093  3.563  4.024  4.183  4.127   \n",
       "463                       1.0  ...  5.778  5.836  4.656  4.974  5.081  5.221   \n",
       "1013                      3.0  ...  3.725  3.573  3.284  3.692  3.786  3.664   \n",
       "902                       0.0  ...  3.827  3.588  3.307  3.695  3.554  3.443   \n",
       "819                       0.0  ...  3.528  3.254  3.319  3.741  3.854  3.817   \n",
       "1217                      0.0  ...  2.974  2.866  3.093  3.367  3.294  3.075   \n",
       "706                       1.0  ...  3.232  3.082  3.234  3.555  3.634  3.556   \n",
       "436                       4.0  ...  3.834  3.692  3.545  3.970  4.099  4.007   \n",
       "881                       0.0  ...  2.624  1.511  3.055  3.389  3.547  3.533   \n",
       "1062                      2.0  ...  3.323  3.261  3.553  3.857  3.730  3.694   \n",
       "\n",
       "      ATSp5  ATSp6  ATSp7  ATSp8  \n",
       "73    3.955  3.751  3.875  3.901  \n",
       "463   5.321  5.379  5.439  5.487  \n",
       "1013  3.501  3.344  3.117  2.793  \n",
       "902   3.444  3.416  3.333  3.111  \n",
       "819   3.599  3.389  3.213  2.938  \n",
       "1217  2.986  2.857  2.907  2.669  \n",
       "706   3.447  3.253  3.058  2.951  \n",
       "436   3.867  3.743  3.553  3.403  \n",
       "881   3.354  3.007  2.423  1.499  \n",
       "1062  3.618  3.456  3.210  3.214  \n",
       "\n",
       "[10 rows x 825 columns]"
      ],
      "text/html": "<div>\n<style scoped>\n    .dataframe tbody tr th:only-of-type {\n        vertical-align: middle;\n    }\n\n    .dataframe tbody tr th {\n        vertical-align: top;\n    }\n\n    .dataframe thead th {\n        text-align: right;\n    }\n</style>\n<table border=\"1\" class=\"dataframe\">\n  <thead>\n    <tr style=\"text-align: right;\">\n      <th></th>\n      <th>name</th>\n      <th>label</th>\n      <th>smiles</th>\n      <th>FractionCSP3</th>\n      <th>HeavyAtomCount</th>\n      <th>HeavyAtomMolWt</th>\n      <th>NHOHCount</th>\n      <th>NOCount</th>\n      <th>RingCount</th>\n      <th>NumAliphaticCarbocycles</th>\n      <th>...</th>\n      <th>ATSe7</th>\n      <th>ATSe8</th>\n      <th>ATSp1</th>\n      <th>ATSp2</th>\n      <th>ATSp3</th>\n      <th>ATSp4</th>\n      <th>ATSp5</th>\n      <th>ATSp6</th>\n      <th>ATSp7</th>\n      <th>ATSp8</th>\n    </tr>\n  </thead>\n  <tbody>\n    <tr>\n      <th>73</th>\n      <td>Sipholenone E</td>\n      <td>0</td>\n      <td>C[C@@H]1CC[C@H]2[C@@H](/C1=C/C[C@@H]1[C@@](C)(...</td>\n      <td>0.900000</td>\n      <td>34.0</td>\n      <td>424.326</td>\n      <td>2.0</td>\n      <td>4.0</td>\n      <td>4.0</td>\n      <td>3.0</td>\n      <td>...</td>\n      <td>4.084</td>\n      <td>4.093</td>\n      <td>3.563</td>\n      <td>4.024</td>\n      <td>4.183</td>\n      <td>4.127</td>\n      <td>3.955</td>\n      <td>3.751</td>\n      <td>3.875</td>\n      <td>3.901</td>\n    </tr>\n    <tr>\n      <th>463</th>\n      <td>SIOMYCIN A</td>\n      <td>0</td>\n      <td>C=C(NC(=O)C(=C)NC(=O)c1csc(C2=N[C@@H]3c4csc(n4...</td>\n      <td>0.394366</td>\n      <td>113.0</td>\n      <td>1567.231</td>\n      <td>18.0</td>\n      <td>37.0</td>\n      <td>10.0</td>\n      <td>1.0</td>\n      <td>...</td>\n      <td>5.778</td>\n      <td>5.836</td>\n      <td>4.656</td>\n      <td>4.974</td>\n      <td>5.081</td>\n      <td>5.221</td>\n      <td>5.321</td>\n      <td>5.379</td>\n      <td>5.439</td>\n      <td>5.487</td>\n    </tr>\n    <tr>\n      <th>1013</th>\n      <td>3,17-dihydroxy-2-(2,2,2-trifluoroethoxy)estra-...</td>\n      <td>0</td>\n      <td>C[C@@]12CC[C@@H]3c4cc(OCC(F)(F)F)c(O)cc4/C(=N/...</td>\n      <td>0.650000</td>\n      <td>28.0</td>\n      <td>375.217</td>\n      <td>3.0</td>\n      <td>5.0</td>\n      <td>4.0</td>\n      <td>3.0</td>\n      <td>...</td>\n      <td>3.725</td>\n      <td>3.573</td>\n      <td>3.284</td>\n      <td>3.692</td>\n      <td>3.786</td>\n      <td>3.664</td>\n      <td>3.501</td>\n      <td>3.344</td>\n      <td>3.117</td>\n      <td>2.793</td>\n    </tr>\n    <tr>\n      <th>902</th>\n      <td>(4-(1,3-dihydro-2H-pyrrolo[3,4-b]quinolin-2-yl...</td>\n      <td>0</td>\n      <td>CC(C)(C)C(=O)OC[C@H]1C(=O)OC[C@H]1C(=O)N1Cc2cc...</td>\n      <td>0.454545</td>\n      <td>29.0</td>\n      <td>372.251</td>\n      <td>0.0</td>\n      <td>7.0</td>\n      <td>4.0</td>\n      <td>0.0</td>\n      <td>...</td>\n      <td>3.827</td>\n      <td>3.588</td>\n      <td>3.307</td>\n      <td>3.695</td>\n      <td>3.554</td>\n      <td>3.443</td>\n      <td>3.444</td>\n      <td>3.416</td>\n      <td>3.333</td>\n      <td>3.111</td>\n    </tr>\n    <tr>\n      <th>819</th>\n      <td>14-Chloro-20(S)-camptothecin hydrate</td>\n      <td>0</td>\n      <td>CC[C@@]1(O)C(=O)OCc2c1c(Cl)c1n(c2=O)Cc2cc3cccc...</td>\n      <td>0.250000</td>\n      <td>27.0</td>\n      <td>367.683</td>\n      <td>1.0</td>\n      <td>6.0</td>\n      <td>5.0</td>\n      <td>0.0</td>\n      <td>...</td>\n      <td>3.528</td>\n      <td>3.254</td>\n      <td>3.319</td>\n      <td>3.741</td>\n      <td>3.854</td>\n      <td>3.817</td>\n      <td>3.599</td>\n      <td>3.389</td>\n      <td>3.213</td>\n      <td>2.938</td>\n    </tr>\n    <tr>\n      <th>1217</th>\n      <td>5-(4-((4-chlorophenyl)thio)-2-pentenyl)-6-meth...</td>\n      <td>0</td>\n      <td>Cc1nnc(N)nc1C/C=C/[C@H](C)Sc1ccc(Cl)cc1</td>\n      <td>0.266667</td>\n      <td>21.0</td>\n      <td>303.713</td>\n      <td>2.0</td>\n      <td>4.0</td>\n      <td>2.0</td>\n      <td>0.0</td>\n      <td>...</td>\n      <td>2.974</td>\n      <td>2.866</td>\n      <td>3.093</td>\n      <td>3.367</td>\n      <td>3.294</td>\n      <td>3.075</td>\n      <td>2.986</td>\n      <td>2.857</td>\n      <td>2.907</td>\n      <td>2.669</td>\n    </tr>\n    <tr>\n      <th>706</th>\n      <td>2-(4-((4-(dimethylamino)phenyl)imino)-1(4H)-na...</td>\n      <td>0</td>\n      <td>CN(C)c1ccc(N=C2C=CC(=C(C#N)C#N)c3ccccc32)cc1</td>\n      <td>0.095238</td>\n      <td>25.0</td>\n      <td>308.259</td>\n      <td>0.0</td>\n      <td>4.0</td>\n      <td>3.0</td>\n      <td>1.0</td>\n      <td>...</td>\n      <td>3.232</td>\n      <td>3.082</td>\n      <td>3.234</td>\n      <td>3.555</td>\n      <td>3.634</td>\n      <td>3.556</td>\n      <td>3.447</td>\n      <td>3.253</td>\n      <td>3.058</td>\n      <td>2.951</td>\n    </tr>\n    <tr>\n      <th>436</th>\n      <td>RESIBUFOGENIN, METHACRYLATE DERIV</td>\n      <td>0</td>\n      <td>C=C(C)C(=O)O[C@@H]1CC[C@@]2(C)[C@@H](CC[C@H]3[...</td>\n      <td>0.714286</td>\n      <td>33.0</td>\n      <td>416.303</td>\n      <td>0.0</td>\n      <td>5.0</td>\n      <td>6.0</td>\n      <td>4.0</td>\n      <td>...</td>\n      <td>3.834</td>\n      <td>3.692</td>\n      <td>3.545</td>\n      <td>3.970</td>\n      <td>4.099</td>\n      <td>4.007</td>\n      <td>3.867</td>\n      <td>3.743</td>\n      <td>3.553</td>\n      <td>3.403</td>\n    </tr>\n    <tr>\n      <th>881</th>\n      <td>1-chloro-2-(2-chloroethyl)-3-methylpyrido[1,2-...</td>\n      <td>0</td>\n      <td>Cc1c(CCCl)c(Cl)n2c(nc3ccccc32)c1C#N</td>\n      <td>0.200000</td>\n      <td>20.0</td>\n      <td>293.092</td>\n      <td>0.0</td>\n      <td>3.0</td>\n      <td>3.0</td>\n      <td>0.0</td>\n      <td>...</td>\n      <td>2.624</td>\n      <td>1.511</td>\n      <td>3.055</td>\n      <td>3.389</td>\n      <td>3.547</td>\n      <td>3.533</td>\n      <td>3.354</td>\n      <td>3.007</td>\n      <td>2.423</td>\n      <td>1.499</td>\n    </tr>\n    <tr>\n      <th>1062</th>\n      <td>3-(4-(2-((tert-butyl(dimethyl)silyl)oxy)-4-oxo...</td>\n      <td>0</td>\n      <td>CC(C)[C@@H]1CCC(=O)C[C@H]1CCCC[C@H]1CC(=O)C[C@...</td>\n      <td>0.916667</td>\n      <td>28.0</td>\n      <td>364.347</td>\n      <td>0.0</td>\n      <td>3.0</td>\n      <td>2.0</td>\n      <td>2.0</td>\n      <td>...</td>\n      <td>3.323</td>\n      <td>3.261</td>\n      <td>3.553</td>\n      <td>3.857</td>\n      <td>3.730</td>\n      <td>3.694</td>\n      <td>3.618</td>\n      <td>3.456</td>\n      <td>3.210</td>\n      <td>3.214</td>\n    </tr>\n  </tbody>\n</table>\n<p>10 rows × 825 columns</p>\n</div>"
     },
     "metadata": {},
     "execution_count": 58
    }
   ],
   "source": [
    "# Merge two dataframe\n",
    "df_all = pd.concat([df_man_unique, df_cc], ignore_index=True)\n",
    "print(df_all.shape)\n",
    "df_all.sample(n=10)"
   ]
  },
  {
   "cell_type": "code",
   "execution_count": 69,
   "metadata": {},
   "outputs": [
    {
     "output_type": "execute_result",
     "data": {
      "text/plain": [
       "(129, 1103, 'pos/neg = 0.117')"
      ]
     },
     "metadata": {},
     "execution_count": 69
    }
   ],
   "source": [
    "len_1 = len(df_all[df_all[\"label\"]==1])\n",
    "len_0 = len(df_all[df_all[\"label\"]==0])\n",
    "len_1, len_0, f\"pos/neg = {round(len_1/len_0, 3)}\""
   ]
  },
  {
   "cell_type": "code",
   "execution_count": null,
   "metadata": {},
   "outputs": [],
   "source": []
  },
  {
   "cell_type": "code",
   "execution_count": null,
   "metadata": {},
   "outputs": [],
   "source": []
  }
 ],
 "metadata": {
  "kernelspec": {
   "name": "python3",
   "display_name": "Python 3.7.9 64-bit ('mrp7pred': conda)",
   "metadata": {
    "interpreter": {
     "hash": "92d99c5e71e84a2263a62737dfd2a92878e0eb69e8abd0be91cf636f60619020"
    }
   }
  },
  "language_info": {
   "codemirror_mode": {
    "name": "ipython",
    "version": 3
   },
   "file_extension": ".py",
   "mimetype": "text/x-python",
   "name": "python",
   "nbconvert_exporter": "python",
   "pygments_lexer": "ipython3",
   "version": "3.7.9-final"
  }
 },
 "nbformat": 4,
 "nbformat_minor": 4
}